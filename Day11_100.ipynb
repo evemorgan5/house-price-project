{
 "cells": [
  {
   "cell_type": "code",
   "execution_count": null,
   "id": "09cab97f",
   "metadata": {
    "scrolled": false
   },
   "outputs": [],
   "source": [
    "  "
   ]
  },
  {
   "cell_type": "code",
   "execution_count": 128,
   "id": "f7799b83",
   "metadata": {},
   "outputs": [
    {
     "name": "stdout",
     "output_type": "stream",
     "text": [
      "Do you want to play a game of Blackjack? Type 'y' for yes or 'n' for no: y\n",
      "Welcome to Blackjack!\n",
      "\n",
      "Your cards: [7, 10], current_score: 17\n",
      "Computer's first card: 3\n",
      "\n",
      "Type 'y' to get another card, type 'n' to pass: n\n",
      "Your final hand: [7, 10], final score: 17\n",
      "Computer's final hand: [3, 10, 4], final score: 17\n",
      "Push\n"
     ]
    }
   ],
   "source": [
    "# capstone project\n",
    "\n",
    "# built blackjack game\n",
    "\n",
    "# card_vales = {\"A\": 11, \"K\": 10, \"Q\": 10, \"J\": 10, \"10\": 10, \"9\": 9, \"8\": 8, \"7\": 7, \"6\": 6,\n",
    "#               \"5\": 5, \"4\": 4, \"3\": 3, \"2\": 2}\n",
    "\n",
    "import random\n",
    "random_number = random.randint(0, 12)\n",
    "\n",
    "card_values = [11, 2, 3, 4, 5, 6, 7, 8, 9, 10, 10, 10, 10]\n",
    "\n",
    "play = input(\"Do you want to play a game of Blackjack? Type 'y' for yes or 'n' for no: \")\n",
    "if play == \"y\":\n",
    "    print(\"Welcome to Blackjack!\\n\")\n",
    "\n",
    "def deal_card():\n",
    "    card_values = [11, 2, 3, 4, 5, 6, 7, 8, 9, 10, 10, 10, 10]\n",
    "    card = card_values[random.randint(0, 12)]\n",
    "    return card \n",
    "   \n",
    "card1 = deal_card()\n",
    "# can I use random_number variable or will it always be the same?\n",
    "card2 = card_values[random.randint(0, 12)]\n",
    "\n",
    "your_cards = [card1, card2]\n",
    "current_score = sum(your_cards)\n",
    "\n",
    "if current_score > 21 and card1 == 11:\n",
    "    card1 = 1\n",
    "print(f\"Your cards: {your_cards}, current_score: {current_score}\")\n",
    "\n",
    "computers_first_card = cards[random.randint(0, 12)]\n",
    "computers_cards = [computers_first_card]\n",
    "print(f\"Computer's first card: {computers_first_card}\")\n",
    "\n",
    "\n",
    "another_card = input(\"\\nType 'y' to get another card, type 'n' to pass: \")\n",
    "while another_card == \"y\":\n",
    "    cardx = cards[random.randint(0, 12)]\n",
    "    your_cards.append(cardx)\n",
    "    current_score = sum(your_cards)\n",
    "    print(f\"Your cards: {your_cards}, current score: {current_score}\")\n",
    "    print(f\"Computer's first card: {computers_first_card}\")\n",
    "    \n",
    "    if current_score > 21:\n",
    "        print(f\"Your final hand: {your_cards}, final score: {current_score}\")\n",
    "        print(\"You lose\")\n",
    "        another_card = \"n\"\n",
    "#         computer_next_card = cards[random.randint(0, 12)]\n",
    "#         computers_cards.append(computer_next_card)\n",
    "#         computers_current_score = sum(computers_cards)\n",
    "#         print(f\"Computer's final hand: {computers_cards}, final score: {computers_current_score}\")\n",
    "    \n",
    "    else:\n",
    "        another_card = input(\"\\nType 'y' to get another card, type 'n' to pass: \")\n",
    "    \n",
    "if another_card == \"n\" and current_score < 21:\n",
    "    print(f\"Your final hand: {your_cards}, final score: {current_score}\")\n",
    "\n",
    "    computer_next_card = cards[random.randint(0, 12)]\n",
    "    computers_cards.append(computer_next_card)\n",
    "    computers_current_score = sum(computers_cards)\n",
    "    while computers_current_score <= 16:\n",
    "        computer_next_card = cards[random.randint(0, 12)]\n",
    "        computers_cards.append(computer_next_card)\n",
    "        computers_current_score = sum(computers_cards)         \n",
    "    print(f\"Computer's final hand: {computers_cards}, final score: {computers_current_score}\")\n",
    "\n",
    "    if computers_current_score > 21:\n",
    "        print(\"You win\") \n",
    "    elif current_score == 21:\n",
    "        print(\"You win\")\n",
    "    elif computers_current_score == 21:\n",
    "        print(\"You lose\")\n",
    "    elif current_score > computers_current_score:\n",
    "        print(\"You win\")\n",
    "    elif current_score < computers_current_score:\n",
    "        print(\"You lose\")\n",
    "    elif current_score == computers_current_score:\n",
    "        print(\"Push\")\n"
   ]
  },
  {
   "cell_type": "code",
   "execution_count": 132,
   "id": "a5c929f4",
   "metadata": {},
   "outputs": [
    {
     "name": "stdout",
     "output_type": "stream",
     "text": [
      "You win\n"
     ]
    }
   ],
   "source": [
    "def determine_winner(current_score, dealers_current_score):\n",
    "    if dealers_current_score > 21:\n",
    "        print(\"You win\") \n",
    "    elif current_score == 21:\n",
    "        print(\"You win\")\n",
    "    elif dealers_current_score == 21:\n",
    "        print(\"You lose\")\n",
    "    elif current_score > dealers_current_score:\n",
    "        print(\"You win\")\n",
    "    elif current_score < dealers_current_score:\n",
    "        print(\"You lose\")\n",
    "    elif current_score == dealers_current_score:\n",
    "        print(\"Push\")\n",
    "            \n",
    "determine_winner(19, 22)  "
   ]
  },
  {
   "cell_type": "code",
   "execution_count": 173,
   "id": "e0d62d5d",
   "metadata": {},
   "outputs": [
    {
     "name": "stdout",
     "output_type": "stream",
     "text": [
      "Do you want to play a game of Blackjack? Type 'y' or 'n': y\n",
      " Your cards: [10, 11], current_score: 0\n",
      " Computer's first cards: 7\n",
      "\n",
      "Your final hand: [10, 11], final score: 0\n",
      "Computer's final hand: [7, 10], final score: 17\n",
      "Win with a Blackjack\n",
      "Do you want to play a game of Blackjack? Type 'y' or 'n': y\n",
      " Your cards: [7, 11], current_score: 18\n",
      " Computer's first cards: 6\n",
      "\n",
      "Type 'y' to get another card, type 'n' to pass: n\n",
      "\n",
      "Your final hand: [7, 11], final score: 18\n",
      "Computer's final hand: [6, 10, 10], final score: 26\n",
      "Opponent went over. You win\n",
      "Do you want to play a game of Blackjack? Type 'y' or 'n': n\n"
     ]
    }
   ],
   "source": [
    "import random \n",
    "# clear function \n",
    "\n",
    "def deal_card():\n",
    "#     returns random card from the deck\n",
    "    cards = [2, 3, 4, 5, 6, 7, 8, 9, 10, 10, 10, 10, 11]\n",
    "    card = cards[random.randint(0, 12)]\n",
    "    return card\n",
    "\n",
    "def calculate_score(cards):\n",
    "    if sum(cards)== 21 and len(cards) == 2:\n",
    "        return 0 \n",
    "    if 11 in cards and sum(cards)> 21:\n",
    "        cards.remove(11)\n",
    "        cards.append(1)\n",
    "    return sum(cards)\n",
    "\n",
    "def compare(user_score, computer_score):\n",
    "    if user_score > 21 and computer_score > 21:\n",
    "        return \"You went over. You lose\"\n",
    "    elif user_score == computer_score:\n",
    "        return \"Push\"\n",
    "    elif computer_score == 0:\n",
    "        return \"Lose, opponent has Blackjack\"\n",
    "    elif user_score == 0:\n",
    "        return \"Win with a Blackjack\"\n",
    "    elif user_score > 21:\n",
    "        return \"You went over. You lose\"\n",
    "    elif computer_score > 21:\n",
    "        return \"Opponent went over. You win\"\n",
    "    elif user_score > computer_score:\n",
    "        return \"You win\"\n",
    "    else:\n",
    "        return \"You lose\" \n",
    "     \n",
    "# order of conditions is important \n",
    "    \n",
    "    \n",
    "def play_game():       \n",
    "    \n",
    "    user_cards = []\n",
    "    computer_cards = []\n",
    "    is_game_over = False \n",
    "\n",
    "    for _ in range(2):\n",
    "        user_cards.append(deal_card())\n",
    "        computer_cards.append(deal_card())\n",
    "\n",
    "    while not is_game_over:\n",
    "        user_score = calculate_score(user_cards)\n",
    "        computer_score = calculate_score(computer_cards)\n",
    "        print(f\" Your cards: {user_cards}, current_score: {user_score}\")\n",
    "        print(f\" Computer's first cards: {computer_cards[0]}\")\n",
    "\n",
    "\n",
    "        if user_score == 0 or computer_score == 0 or user_score > 21:\n",
    "            is_game_over = True\n",
    "        else:\n",
    "            user_should_deal = input(\"\\nType 'y' to get another card, type 'n' to pass: \")\n",
    "            if user_should_deal == \"y\":\n",
    "                user_cards.append(deal_card())\n",
    "            else:\n",
    "                is_game_over = True\n",
    "   \n",
    "    while computer_score != 0 and computer_score < 17:\n",
    "        computer_cards.append(deal_card())\n",
    "        computer_score = calculate_score(computer_cards)\n",
    "\n",
    "\n",
    "    print(f\"\\nYour final hand: {user_cards}, final score: {user_score}\")\n",
    "    print(f\"Computer's final hand: {computer_cards}, final score: {computer_score}\")\n",
    "    print(compare(user_score, computer_score))\n",
    "\n",
    "\n",
    "while input(\"Do you want to play a game of Blackjack? Type 'y' or 'n': \") == \"y\":\n",
    "    play_game()"
   ]
  },
  {
   "cell_type": "code",
   "execution_count": null,
   "id": "cc88a4b4",
   "metadata": {},
   "outputs": [],
   "source": []
  },
  {
   "cell_type": "code",
   "execution_count": null,
   "id": "d208b610",
   "metadata": {},
   "outputs": [],
   "source": [
    "# refactor code into variables \n",
    "# take care of ace case 1 or 11 \n",
    "#  take care of 52 cards in deck \n",
    "\n",
    "\n"
   ]
  },
  {
   "cell_type": "code",
   "execution_count": 171,
   "id": "9c4514a7",
   "metadata": {},
   "outputs": [
    {
     "name": "stdout",
     "output_type": "stream",
     "text": [
      "13\n"
     ]
    }
   ],
   "source": [
    "cards1 = [10,2,11]\n",
    "print(calculate_score(cards1))\n",
    "\n"
   ]
  },
  {
   "cell_type": "code",
   "execution_count": 230,
   "id": "5e3eb00e",
   "metadata": {},
   "outputs": [
    {
     "name": "stdout",
     "output_type": "stream",
     "text": [
      "[10, 11, 6, 10, 2, 4, 10, 2, 2, 10, 10, 5, 3, 10, 11, 8, 10, 4, 5, 10, 6, 7, 10, 6, 9, 10, 9, 7, 4, 8, 3, 8, 6, 7, 7, 3, 5, 10, 4, 11, 10, 10, 11, 8, 2, 9, 3, 10, 10, 10, 5, 9]\n",
      "10\n",
      "11\n",
      "6\n",
      "10\n",
      "2\n",
      "4\n",
      "10\n",
      "2\n",
      "2\n",
      "10\n",
      "10\n",
      "5\n",
      "3\n",
      "10\n",
      "11\n",
      "8\n",
      "10\n",
      "4\n",
      "5\n",
      "10\n",
      "6\n",
      "7\n",
      "10\n",
      "6\n",
      "9\n",
      "10\n",
      "9\n",
      "7\n",
      "4\n",
      "8\n",
      "3\n",
      "8\n",
      "6\n",
      "7\n",
      "7\n",
      "3\n",
      "5\n",
      "10\n",
      "4\n",
      "11\n",
      "10\n",
      "10\n",
      "11\n",
      "8\n",
      "2\n",
      "9\n",
      "3\n",
      "10\n",
      "10\n",
      "10\n",
      "5\n",
      "9\n"
     ]
    }
   ],
   "source": [
    "# draw a card from a shuffled deck\n",
    "\n",
    "import random \n",
    "deck = [11, 2, 3, 4, 5, 6, 7, 8, 9, 10, 10, 10, 10,\n",
    "                    11, 2, 3, 4, 5, 6, 7, 8, 9, 10, 10, 10, 10,\n",
    "                    11, 2, 3, 4, 5, 6, 7, 8, 9, 10, 10, 10, 10,\n",
    "                    11, 2, 3, 4, 5, 6, 7, 8, 9, 10, 10, 10, 10]\n",
    "random.shuffle(deck)\n",
    "print(deck)\n",
    "\n",
    "def deal_card(deck):\n",
    "#     deck is shuffled so first card is needed\n",
    "    card = deck[0]\n",
    "    del deck[0]\n",
    "#     print(deck)\n",
    "    return card \n",
    "   \n",
    "for _ in range(52):\n",
    "    print(deal_card(deck))"
   ]
  },
  {
   "cell_type": "code",
   "execution_count": 206,
   "id": "2907ad26",
   "metadata": {},
   "outputs": [
    {
     "data": {
      "text/plain": [
       "51"
      ]
     },
     "execution_count": 206,
     "metadata": {},
     "output_type": "execute_result"
    }
   ],
   "source": [
    "len(deck)"
   ]
  },
  {
   "cell_type": "code",
   "execution_count": 211,
   "id": "b6ef212f",
   "metadata": {},
   "outputs": [
    {
     "data": {
      "text/plain": [
       "[0, 1, 2, 3, 4]"
      ]
     },
     "execution_count": 211,
     "metadata": {},
     "output_type": "execute_result"
    }
   ],
   "source": [
    "list(range(0, 5))"
   ]
  },
  {
   "cell_type": "code",
   "execution_count": 217,
   "id": "7a038d2b",
   "metadata": {},
   "outputs": [
    {
     "data": {
      "text/plain": [
       "[2, 1, 2, 2, 1, 3, 3, 2, 2, 1]"
      ]
     },
     "execution_count": 217,
     "metadata": {},
     "output_type": "execute_result"
    }
   ],
   "source": [
    "[random.randint(0, 3) for _ in range(10)]"
   ]
  },
  {
   "cell_type": "code",
   "execution_count": 224,
   "id": "de608344",
   "metadata": {},
   "outputs": [
    {
     "name": "stdout",
     "output_type": "stream",
     "text": [
      "[2, 3, 7, 9, 11, 5]\n"
     ]
    }
   ],
   "source": [
    "# create a list\n",
    "prime_numbers = [2, 3, 5, 7, 9, 11, 5]\n",
    "\n",
    "# remove 9 from the list\n",
    "\n",
    "card = prime_numbers[2]\n",
    "prime_numbers.remove(card)\n",
    "\n",
    "print(prime_numbers)"
   ]
  },
  {
   "cell_type": "code",
   "execution_count": 228,
   "id": "51465c00",
   "metadata": {},
   "outputs": [
    {
     "name": "stdout",
     "output_type": "stream",
     "text": [
      "[2, 3, 4, 6]\n"
     ]
    }
   ],
   "source": [
    "x = [2, 3, 4, 2, 6]\n",
    "\n",
    "\n",
    "\n",
    "del x[3]\n",
    "\n",
    "print(x)"
   ]
  },
  {
   "cell_type": "code",
   "execution_count": null,
   "id": "4a831ad8",
   "metadata": {},
   "outputs": [],
   "source": []
  }
 ],
 "metadata": {
  "kernelspec": {
   "display_name": "Python 3",
   "language": "python",
   "name": "python3"
  },
  "language_info": {
   "codemirror_mode": {
    "name": "ipython",
    "version": 3
   },
   "file_extension": ".py",
   "mimetype": "text/x-python",
   "name": "python",
   "nbconvert_exporter": "python",
   "pygments_lexer": "ipython3",
   "version": "3.8.8"
  }
 },
 "nbformat": 4,
 "nbformat_minor": 5
}
