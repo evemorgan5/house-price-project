{
 "cells": [
  {
   "cell_type": "code",
   "execution_count": 116,
   "id": "2b768fba",
   "metadata": {},
   "outputs": [
    {
     "data": {
      "text/plain": [
       "{'espresso': {'ingredients': {'water': 50, 'coffee': 18, 'milk': 0},\n",
       "  'cost': 1.5},\n",
       " 'latte': {'ingredients': {'water': 200, 'milk': 150, 'coffee': 24},\n",
       "  'cost': 2.5},\n",
       " 'cappuccino': {'ingredients': {'water': 250, 'milk': 100, 'coffee': 24},\n",
       "  'cost': 3.0}}"
      ]
     },
     "execution_count": 116,
     "metadata": {},
     "output_type": "execute_result"
    }
   ],
   "source": [
    "menu = {\n",
    "    \"espresso\": {\n",
    "        \"ingredients\": {\n",
    "            \"water\": 50,\n",
    "            \"coffee\": 18,\n",
    "        },\n",
    "        \"cost\": 1.5,\n",
    "    },\n",
    "    \"latte\": {\n",
    "        \"ingredients\": {\n",
    "            \"water\": 200,\n",
    "            \"milk\": 150,\n",
    "            \"coffee\": 24,\n",
    "        },\n",
    "        \"cost\": 2.5,\n",
    "    },\n",
    "    \"cappuccino\": {\n",
    "        \"ingredients\": {\n",
    "            \"water\": 250,\n",
    "            \"milk\": 100,\n",
    "            \"coffee\": 24,\n",
    "        },\n",
    "        \"cost\": 3.0,\n",
    "    }\n",
    "}\n",
    "\n",
    "def read_menu():\n",
    "    menu = {\n",
    "    \"espresso\": {\n",
    "        \"ingredients\": {\n",
    "            \"water\": 50,\n",
    "            \"coffee\": 18,\n",
    "        },\n",
    "        \"cost\": 1.5,\n",
    "    },\n",
    "    \"latte\": {\n",
    "        \"ingredients\": {\n",
    "            \"water\": 200,\n",
    "            \"milk\": 150,\n",
    "            \"coffee\": 24,\n",
    "        },\n",
    "        \"cost\": 2.5,\n",
    "    },\n",
    "    \"cappuccino\": {\n",
    "        \"ingredients\": {\n",
    "            \"water\": 250,\n",
    "            \"milk\": 100,\n",
    "            \"coffee\": 24,\n",
    "        },\n",
    "        \"cost\": 3.0,\n",
    "    }\n",
    "}\n",
    "    return menu \n",
    "\n",
    "resources = {\n",
    "    \"water\": 300,\n",
    "    \"milk\": 200,\n",
    "    \"coffee\": 100,\n",
    "}\n",
    "\n",
    "resources[\"money\"] = 0\n",
    "menu[\"espresso\"][\"ingredients\"][\"milk\"] = 0\n",
    "menu"
   ]
  },
  {
   "cell_type": "code",
   "execution_count": 120,
   "id": "8631141c",
   "metadata": {},
   "outputs": [
    {
     "name": "stdout",
     "output_type": "stream",
     "text": [
      "What would you like? (espresso/latte/cappuccino): report\n",
      "Water: 100ml\n",
      "Milk: 50ml\n",
      "Coffee: 76g\n",
      "Money: $2.5\n",
      "What would you like? (espresso/latte/cappuccino): latte\n",
      "Water: 200ml\n",
      "Milk: 150ml\n",
      "Coffee: 24g\n",
      "Money: $2.5\n",
      "Sorry, not enough water to make that drink.\n",
      "What would you like? (espresso/latte/cappuccino): espresso\n",
      "Water: 50ml\n",
      "Coffee: 18g\n",
      "Money: $1.5\n",
      "Please insert coins.\n",
      "How many quarters?: 8\n",
      "How many dimes?: 0\n",
      "How many nickles?: 0\n",
      "How many pennies?: \n"
     ]
    },
    {
     "ename": "ValueError",
     "evalue": "invalid literal for int() with base 10: ''",
     "output_type": "error",
     "traceback": [
      "\u001b[0;31m---------------------------------------------------------------------------\u001b[0m",
      "\u001b[0;31mValueError\u001b[0m                                Traceback (most recent call last)",
      "\u001b[0;32m<ipython-input-120-e9408e61dd1d>\u001b[0m in \u001b[0;36m<module>\u001b[0;34m\u001b[0m\n\u001b[1;32m     84\u001b[0m                     \u001b[0mprint\u001b[0m\u001b[0;34m(\u001b[0m\u001b[0;34mf\"Here is your {coffee}. Enjoy!\"\u001b[0m\u001b[0;34m)\u001b[0m\u001b[0;34m\u001b[0m\u001b[0;34m\u001b[0m\u001b[0m\n\u001b[1;32m     85\u001b[0m \u001b[0;34m\u001b[0m\u001b[0m\n\u001b[0;32m---> 86\u001b[0;31m \u001b[0mcoffee_machine\u001b[0m\u001b[0;34m(\u001b[0m\u001b[0mmenu\u001b[0m\u001b[0;34m,\u001b[0m \u001b[0mresources\u001b[0m\u001b[0;34m)\u001b[0m\u001b[0;34m\u001b[0m\u001b[0;34m\u001b[0m\u001b[0m\n\u001b[0m\u001b[1;32m     87\u001b[0m \u001b[0;34m\u001b[0m\u001b[0m\n\u001b[1;32m     88\u001b[0m \u001b[0;34m\u001b[0m\u001b[0m\n",
      "\u001b[0;32m<ipython-input-120-e9408e61dd1d>\u001b[0m in \u001b[0;36mcoffee_machine\u001b[0;34m(menu, resources)\u001b[0m\n\u001b[1;32m     72\u001b[0m                 \u001b[0mprice_coffee\u001b[0m \u001b[0;34m=\u001b[0m \u001b[0mmenu\u001b[0m\u001b[0;34m[\u001b[0m\u001b[0mcoffee\u001b[0m\u001b[0;34m]\u001b[0m\u001b[0;34m[\u001b[0m\u001b[0;34m\"cost\"\u001b[0m\u001b[0;34m]\u001b[0m\u001b[0;34m\u001b[0m\u001b[0;34m\u001b[0m\u001b[0m\n\u001b[1;32m     73\u001b[0m         \u001b[0;31m#     not sure about using menu above\u001b[0m\u001b[0;34m\u001b[0m\u001b[0;34m\u001b[0m\u001b[0;34m\u001b[0m\u001b[0m\n\u001b[0;32m---> 74\u001b[0;31m                 \u001b[0mchange_after_coffee\u001b[0m \u001b[0;34m=\u001b[0m \u001b[0mround\u001b[0m\u001b[0;34m(\u001b[0m\u001b[0mchange_calc\u001b[0m\u001b[0;34m(\u001b[0m\u001b[0mprice_coffee\u001b[0m\u001b[0;34m)\u001b[0m\u001b[0;34m,\u001b[0m\u001b[0;36m2\u001b[0m\u001b[0;34m)\u001b[0m\u001b[0;34m\u001b[0m\u001b[0;34m\u001b[0m\u001b[0m\n\u001b[0m\u001b[1;32m     75\u001b[0m                 \u001b[0;32mif\u001b[0m \u001b[0mchange_after_coffee\u001b[0m \u001b[0;34m<\u001b[0m \u001b[0;36m0\u001b[0m\u001b[0;34m:\u001b[0m\u001b[0;34m\u001b[0m\u001b[0;34m\u001b[0m\u001b[0m\n\u001b[1;32m     76\u001b[0m                     \u001b[0mprint\u001b[0m\u001b[0;34m(\u001b[0m\u001b[0;34m\"Sorry that's not enough money. Money refunded.\"\u001b[0m\u001b[0;34m)\u001b[0m\u001b[0;34m\u001b[0m\u001b[0;34m\u001b[0m\u001b[0m\n",
      "\u001b[0;32m<ipython-input-120-e9408e61dd1d>\u001b[0m in \u001b[0;36mchange_calc\u001b[0;34m(cost)\u001b[0m\n\u001b[1;32m     50\u001b[0m     \u001b[0mdimes\u001b[0m \u001b[0;34m=\u001b[0m \u001b[0mint\u001b[0m\u001b[0;34m(\u001b[0m\u001b[0minput\u001b[0m\u001b[0;34m(\u001b[0m\u001b[0;34m\"How many dimes?: \"\u001b[0m\u001b[0;34m)\u001b[0m\u001b[0;34m)\u001b[0m\u001b[0;34m\u001b[0m\u001b[0;34m\u001b[0m\u001b[0m\n\u001b[1;32m     51\u001b[0m     \u001b[0mnickles\u001b[0m \u001b[0;34m=\u001b[0m \u001b[0mint\u001b[0m\u001b[0;34m(\u001b[0m\u001b[0minput\u001b[0m\u001b[0;34m(\u001b[0m\u001b[0;34m\"How many nickles?: \"\u001b[0m\u001b[0;34m)\u001b[0m\u001b[0;34m)\u001b[0m\u001b[0;34m\u001b[0m\u001b[0;34m\u001b[0m\u001b[0m\n\u001b[0;32m---> 52\u001b[0;31m     \u001b[0mpennies\u001b[0m \u001b[0;34m=\u001b[0m \u001b[0mint\u001b[0m\u001b[0;34m(\u001b[0m\u001b[0minput\u001b[0m\u001b[0;34m(\u001b[0m\u001b[0;34m\"How many pennies?: \"\u001b[0m\u001b[0;34m)\u001b[0m\u001b[0;34m)\u001b[0m\u001b[0;34m\u001b[0m\u001b[0;34m\u001b[0m\u001b[0m\n\u001b[0m\u001b[1;32m     53\u001b[0m     \u001b[0mtotal\u001b[0m \u001b[0;34m=\u001b[0m \u001b[0mquarters\u001b[0m\u001b[0;34m*\u001b[0m\u001b[0;36m0.25\u001b[0m \u001b[0;34m+\u001b[0m \u001b[0mdimes\u001b[0m\u001b[0;34m*\u001b[0m\u001b[0;36m0.10\u001b[0m \u001b[0;34m+\u001b[0m \u001b[0mnickles\u001b[0m\u001b[0;34m*\u001b[0m\u001b[0;36m0.05\u001b[0m \u001b[0;34m+\u001b[0m \u001b[0mpennies\u001b[0m\u001b[0;34m*\u001b[0m\u001b[0;36m0.01\u001b[0m\u001b[0;34m\u001b[0m\u001b[0;34m\u001b[0m\u001b[0m\n\u001b[1;32m     54\u001b[0m     \u001b[0mchange\u001b[0m \u001b[0;34m=\u001b[0m \u001b[0mtotal\u001b[0m \u001b[0;34m-\u001b[0m \u001b[0mcost\u001b[0m\u001b[0;34m\u001b[0m\u001b[0;34m\u001b[0m\u001b[0m\n",
      "\u001b[0;31mValueError\u001b[0m: invalid literal for int() with base 10: ''"
     ]
    }
   ],
   "source": [
    "# print report\n",
    "# check resources sufficient \n",
    "\n",
    "def report(resources):\n",
    "    water_re = resources[\"water\"]\n",
    "    milk_re = resources[\"milk\"]\n",
    "    coffee_re = resources[\"coffee\"]\n",
    "    money_re = resources[\"money\"]\n",
    "    print(f\"Water: {water_re}ml\\nMilk: {milk_re}ml\\nCoffee: {coffee_re}g\\nMoney: ${money_re}\")\n",
    "\n",
    "\n",
    "def coffee_report(coffee):\n",
    "    menu = read_menu()\n",
    "    menu[\"espresso\"][\"ingredients\"][\"milk\"] = 0\n",
    "    water_amt = menu[coffee][\"ingredients\"][\"water\"]\n",
    "    coffee_amt = menu[coffee][\"ingredients\"][\"coffee\"]\n",
    "    money = menu[coffee][\"cost\"]\n",
    "   \n",
    "    if coffee == \"espresso\":\n",
    "        print(f\"Water: {water_amt}ml\\nCoffee: {coffee_amt}g\\nMoney: ${money}\")\n",
    "    elif coffee == \"latte\" or coffee == \"cappuccino\":\n",
    "        milk_amt = menu[coffee][\"ingredients\"][\"milk\"]\n",
    "        print(f\"Water: {water_amt}ml\\nMilk: {milk_amt}ml\\nCoffee: {coffee_amt}g\\nMoney: ${money}\")\n",
    "  \n",
    "\n",
    "def check_resources_sufficient(resources, coffee):\n",
    "    menu = read_menu()\n",
    "    menu[\"espresso\"][\"ingredients\"][\"milk\"] = 0\n",
    "    current_water = resources[\"water\"] - menu[coffee][\"ingredients\"][\"water\"]\n",
    "    current_milk = resources[\"milk\"] - menu[coffee][\"ingredients\"][\"milk\"]\n",
    "    current_coffee = resources[\"coffee\"] - menu[coffee][\"ingredients\"][\"coffee\"]\n",
    "    \n",
    "    if current_water < 0:\n",
    "        print(\"Sorry, not enough water to make that drink.\")\n",
    "        return False\n",
    "    elif current_milk < 0:\n",
    "        print(\"Sorry, not enough milk to make that drink.\")\n",
    "        return False\n",
    "    elif current_coffee < 0:\n",
    "        print(\"Sorry, not enough coffee to make that drink.\")  \n",
    "        return False\n",
    "    else:\n",
    "        return True \n",
    "#        make coffee sufficent resources \n",
    "#         print(f\"Water: {current_water}ml\\nMilk: {current_milk}ml\\nCoffee: {current_coffee}g\")\n",
    "        \n",
    "def change_calc(cost):\n",
    "    print(\"Please insert coins.\")\n",
    "    quarters = int(input(\"How many quarters?: \"))\n",
    "    dimes = int(input(\"How many dimes?: \"))\n",
    "    nickles = int(input(\"How many nickles?: \"))\n",
    "    pennies = int(input(\"How many pennies?: \"))  \n",
    "    total = quarters*0.25 + dimes*0.10 + nickles*0.05 + pennies*0.01\n",
    "    change = total - cost \n",
    "    return change        \n",
    "    \n",
    "    \n",
    "def coffee_machine(menu, resources):    \n",
    "    machine_on = True \n",
    "\n",
    "    while machine_on:\n",
    "        coffee = input(\"What would you like? (espresso/latte/cappuccino): \").lower()\n",
    "        if coffee == \"off\":\n",
    "            machine_on = False\n",
    "        elif coffee == \"report\":\n",
    "            report(resources)\n",
    "    #         report(current_resources)\n",
    "        else:\n",
    "            coffee_report(coffee)\n",
    "    #         update current_resources\n",
    "            if check_resources_sufficient(resources, coffee) == True:\n",
    "                price_coffee = menu[coffee][\"cost\"]\n",
    "        #     not sure about using menu above \n",
    "                change_after_coffee = round(change_calc(price_coffee),2)\n",
    "                if change_after_coffee < 0:\n",
    "                    print(\"Sorry that's not enough money. Money refunded.\")\n",
    "                else:\n",
    "        #             add price of coffee to resources \n",
    "                    resources[\"water\"] -= menu[coffee][\"ingredients\"][\"water\"]\n",
    "                    resources[\"milk\"] -= menu[coffee][\"ingredients\"][\"milk\"]\n",
    "                    resources[\"coffee\"] -= menu[coffee][\"ingredients\"][\"coffee\"]\n",
    "                    resources[\"money\"] += price_coffee\n",
    "                    print(f\"Here is ${change_after_coffee} in change.\")\n",
    "                    print(f\"Here is your {coffee}. Enjoy!\")\n",
    "\n",
    "coffee_machine(menu, resources)\n",
    "\n",
    "\n",
    "\n"
   ]
  },
  {
   "cell_type": "code",
   "execution_count": 118,
   "id": "faf098a6",
   "metadata": {},
   "outputs": [
    {
     "name": "stdout",
     "output_type": "stream",
     "text": [
      "{'ingredients': {'water': 50, 'coffee': 18, 'milk': 0}, 'cost': 1.5}\n",
      "{'water': 50, 'coffee': 18, 'milk': 0}\n",
      "50\n",
      "1.5\n"
     ]
    }
   ],
   "source": [
    "print(menu[\"espresso\"])\n",
    "     \n",
    "print(menu[\"espresso\"][\"ingredients\"])\n",
    "print(menu[\"espresso\"][\"ingredients\"][\"water\"])\n",
    "\n",
    "    \n",
    "print(menu[\"espresso\"][\"cost\"])"
   ]
  },
  {
   "cell_type": "code",
   "execution_count": null,
   "id": "2dd63279",
   "metadata": {},
   "outputs": [],
   "source": []
  },
  {
   "cell_type": "code",
   "execution_count": 56,
   "id": "a9e1c203",
   "metadata": {},
   "outputs": [],
   "source": []
  },
  {
   "cell_type": "code",
   "execution_count": null,
   "id": "57cc5e8f",
   "metadata": {},
   "outputs": [],
   "source": [
    "\n",
    "\n"
   ]
  },
  {
   "cell_type": "code",
   "execution_count": null,
   "id": "333bb6b3",
   "metadata": {},
   "outputs": [],
   "source": [
    "\n",
    "\n",
    "\n"
   ]
  },
  {
   "cell_type": "code",
   "execution_count": null,
   "id": "155173f7",
   "metadata": {},
   "outputs": [],
   "source": [
    "\n"
   ]
  },
  {
   "cell_type": "code",
   "execution_count": null,
   "id": "dc787897",
   "metadata": {},
   "outputs": [],
   "source": []
  }
 ],
 "metadata": {
  "kernelspec": {
   "display_name": "Python 3",
   "language": "python",
   "name": "python3"
  },
  "language_info": {
   "codemirror_mode": {
    "name": "ipython",
    "version": 3
   },
   "file_extension": ".py",
   "mimetype": "text/x-python",
   "name": "python",
   "nbconvert_exporter": "python",
   "pygments_lexer": "ipython3",
   "version": "3.8.8"
  }
 },
 "nbformat": 4,
 "nbformat_minor": 5
}
