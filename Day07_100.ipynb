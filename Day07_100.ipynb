{
 "cells": [
  {
   "cell_type": "code",
   "execution_count": 113,
   "id": "c3564b7d",
   "metadata": {},
   "outputs": [
    {
     "name": "stdout",
     "output_type": "stream",
     "text": [
      "Word: hair\n",
      "['_', '_', '_', '_']\n",
      "Guess a letter: h\n",
      "['h', '_', '_', '_']\n",
      "Guess a letter: a\n",
      "['h', 'a', '_', '_']\n",
      "Guess a letter: i\n",
      "['h', 'a', 'i', '_']\n",
      "Guess a letter: f\n",
      "['h', 'a', 'i', '_']\n",
      "Guess a letter: e\n",
      "['h', 'a', 'i', '_']\n",
      "Guess a letter: r\n",
      "['h', 'a', 'i', 'r']\n"
     ]
    }
   ],
   "source": [
    "# Hangman\n",
    "\n",
    "\n",
    "# input word\n",
    "word = input(\"Word: \").lower()\n",
    "\n",
    "\n",
    "blank_word = []\n",
    "for i in range(len(word)):\n",
    "    blank_word.append(\"_\")\n",
    "print(blank_word)\n",
    "\n",
    "def new_letter(word):\n",
    "    letter_guess = input(\"Guess a letter: \").lower()\n",
    "    for i in range(len(word)):\n",
    "        if word[i] == letter_guess:\n",
    "            blank_word[i] = letter_guess\n",
    "    return blank_word\n",
    "\n",
    "while \"_\" in blank_word:\n",
    "    new_letter(word)\n",
    "    print(blank_word)\n"
   ]
  },
  {
   "cell_type": "code",
   "execution_count": 117,
   "id": "80604599",
   "metadata": {},
   "outputs": [
    {
     "name": "stdout",
     "output_type": "stream",
     "text": [
      "Pssst, the solution is apple.\n",
      "Guess a letter: f\n",
      "\n",
      "You guessed f, that's not in the word.\n",
      "You have 5 lives left.\n",
      "\n",
      "_ _ _ _ _\n",
      "Guess a letter: 4\n",
      "\n",
      "You guessed 4, that's not in the word.\n",
      "You have 4 lives left.\n",
      "\n",
      "_ _ _ _ _\n",
      "Guess a letter: a\n",
      "\n",
      "a _ _ _ _\n",
      "Guess a letter: l\n",
      "\n",
      "a _ _ l _\n",
      "Guess a letter: p\n",
      "\n",
      "a p p l _\n",
      "Guess a letter: g\n",
      "\n",
      "You guessed g, that's not in the word.\n",
      "You have 3 lives left.\n",
      "\n",
      "a p p l _\n",
      "Guess a letter: d\n",
      "\n",
      "You guessed d, that's not in the word.\n",
      "You have 2 lives left.\n",
      "\n",
      "a p p l _\n",
      "Guess a letter: e\n",
      "\n",
      "a p p l e\n",
      "You win.\n"
     ]
    }
   ],
   "source": [
    "# computer chooses random word from list \n",
    "import random \n",
    "word_list = [\"doctor\", \"apple\", \"car\", \"road\"]\n",
    "chosen_word = random.choice(word_list)\n",
    "word_length = len(chosen_word)\n",
    "\n",
    "end_of_game = False\n",
    "lives = 6\n",
    "\n",
    "\n",
    "print(f\"Pssst, the solution is {chosen_word}.\")\n",
    "\n",
    "# create blanks\n",
    "display = []\n",
    "for _ in range(word_length):\n",
    "   display += \"_\"\n",
    "# print(display)\n",
    "\n",
    "\n",
    "while not end_of_game:\n",
    "# command + ] to shift all \n",
    "    letter_guess = input(\"Guess a letter: \").lower()\n",
    "    \n",
    " # check position for guessed letter\n",
    "    for position in range(word_length):\n",
    "        letter = chosen_word[position]\n",
    "#         print(f\"Current position: {position} \\n Current letter: {letter} \\n Guessed letter: {letter_guess}\")\n",
    "        if letter == letter_guess:\n",
    "            display[position] = letter\n",
    "    \n",
    "                \n",
    "    if letter_guess not in chosen_word:\n",
    "        lives -= 1\n",
    "        print(f\"\\nYou guessed {letter_guess}, that's not in the word.\\nYou have {lives} lives left.\")\n",
    "        if lives == 0:\n",
    "            end_of_game = True\n",
    "            print(\"You lose.\")\n",
    "\n",
    "       \n",
    "#     not sure whats going on below\n",
    "\n",
    "    print(f\"\\n{' '.join(display)}\")\n",
    "\n",
    "\n",
    "    if \"_\" not in display:\n",
    "        end_of_game = True\n",
    "        print(\"You win.\")\n",
    "    \n"
   ]
  },
  {
   "cell_type": "raw",
   "id": "8e4868ef",
   "metadata": {},
   "source": [
    "\n"
   ]
  },
  {
   "cell_type": "code",
   "execution_count": 3,
   "id": "dca6001d",
   "metadata": {},
   "outputs": [
    {
     "data": {
      "text/plain": [
       "'a'"
      ]
     },
     "execution_count": 3,
     "metadata": {},
     "output_type": "execute_result"
    }
   ],
   "source": []
  },
  {
   "cell_type": "code",
   "execution_count": null,
   "id": "2ccceb7d",
   "metadata": {},
   "outputs": [],
   "source": []
  }
 ],
 "metadata": {
  "kernelspec": {
   "display_name": "Python 3",
   "language": "python",
   "name": "python3"
  },
  "language_info": {
   "codemirror_mode": {
    "name": "ipython",
    "version": 3
   },
   "file_extension": ".py",
   "mimetype": "text/x-python",
   "name": "python",
   "nbconvert_exporter": "python",
   "pygments_lexer": "ipython3",
   "version": "3.8.8"
  }
 },
 "nbformat": 4,
 "nbformat_minor": 5
}
