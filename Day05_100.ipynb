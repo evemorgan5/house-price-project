{
 "cells": [
  {
   "cell_type": "code",
   "execution_count": 15,
   "id": "9865f4ec",
   "metadata": {},
   "outputs": [
    {
     "name": "stdout",
     "output_type": "stream",
     "text": [
      "Welcome to the PyPassword Generator!\n",
      "How many letters would you like in your password?\n",
      "2\n",
      "How many symbols would you like?\n",
      "2\n",
      "z\n"
     ]
    },
    {
     "ename": "NameError",
     "evalue": "name 'symbol_numbers' is not defined",
     "output_type": "error",
     "traceback": [
      "\u001b[0;31m---------------------------------------------------------------------------\u001b[0m",
      "\u001b[0;31mNameError\u001b[0m                                 Traceback (most recent call last)",
      "\u001b[0;32m<ipython-input-15-064c72e410ba>\u001b[0m in \u001b[0;36m<module>\u001b[0;34m\u001b[0m\n\u001b[1;32m     23\u001b[0m \u001b[0;34m\u001b[0m\u001b[0m\n\u001b[1;32m     24\u001b[0m \u001b[0;32mfor\u001b[0m \u001b[0meach\u001b[0m \u001b[0;32min\u001b[0m \u001b[0mrange\u001b[0m\u001b[0;34m(\u001b[0m\u001b[0;36m0\u001b[0m\u001b[0;34m,\u001b[0m\u001b[0mno_symbols\u001b[0m\u001b[0;34m)\u001b[0m\u001b[0;34m:\u001b[0m\u001b[0;34m\u001b[0m\u001b[0;34m\u001b[0m\u001b[0m\n\u001b[0;32m---> 25\u001b[0;31m     \u001b[0msymbol_numbers\u001b[0m\u001b[0;34m.\u001b[0m\u001b[0mappend\u001b[0m\u001b[0;34m(\u001b[0m\u001b[0mrandom\u001b[0m\u001b[0;34m.\u001b[0m\u001b[0mrandint\u001b[0m\u001b[0;34m(\u001b[0m\u001b[0;36m0\u001b[0m\u001b[0;34m,\u001b[0m\u001b[0;36m9\u001b[0m\u001b[0;34m)\u001b[0m\u001b[0;34m)\u001b[0m\u001b[0;34m\u001b[0m\u001b[0;34m\u001b[0m\u001b[0m\n\u001b[0m\u001b[1;32m     26\u001b[0m \u001b[0mprint\u001b[0m\u001b[0;34m(\u001b[0m\u001b[0mpassword_numbers\u001b[0m\u001b[0;34m)\u001b[0m\u001b[0;34m\u001b[0m\u001b[0;34m\u001b[0m\u001b[0m\n\u001b[1;32m     27\u001b[0m \u001b[0;34m\u001b[0m\u001b[0m\n",
      "\u001b[0;31mNameError\u001b[0m: name 'symbol_numbers' is not defined"
     ]
    }
   ],
   "source": [
    "# password generator\n",
    "\n",
    "import random \n",
    "print(\"Welcome to the PyPassword Generator!\")\n"
   ]
  },
  {
   "cell_type": "code",
   "execution_count": 39,
   "id": "ae8fbbd0",
   "metadata": {},
   "outputs": [
    {
     "name": "stdout",
     "output_type": "stream",
     "text": [
      "How many numbers would you like?\n",
      "4\n",
      "['1', '4', '7', '2']\n"
     ]
    }
   ],
   "source": [
    "no_numbers = int(input(\"How many numbers would you like?\\n\"))\n",
    "\n",
    "random_number = random.randint(0,9)\n",
    "\n",
    "password_numbers = []\n",
    "for each in range(0,no_numbers):\n",
    "    password_numbers.append(str(random.randint(0,9)))\n",
    "print(password_numbers)"
   ]
  },
  {
   "cell_type": "code",
   "execution_count": 28,
   "id": "03ebbd1c",
   "metadata": {},
   "outputs": [
    {
     "name": "stdout",
     "output_type": "stream",
     "text": [
      "How many letters would you like in your password?\n",
      "3\n",
      "['f', 'i', 'f']\n"
     ]
    }
   ],
   "source": [
    "no_letters = int(input(\"How many letters would you like in your password?\\n\"))\n",
    "\n",
    "\n",
    "alphabet = ['a', 'b', 'c', 'd', 'e', 'f', 'g', 'h', 'i', 'j', 'k', 'l'\n",
    "           , 'm', 'n', 'o', 'p', 'q', 'r', 's', 't', 'u', 'v', 'w', 'x', 'y', 'z']\n",
    "\n",
    "# letter_pos = random.randint(0,26)\n",
    "# random_letter = alphabet[letter_pos]\n",
    "\n",
    "password_letters = []\n",
    "for each in range(0, no_letters):\n",
    "    password_letters.append(alphabet[random.randint(0,26)])\n",
    "print(password_letters)"
   ]
  },
  {
   "cell_type": "code",
   "execution_count": null,
   "id": "5919bb20",
   "metadata": {},
   "outputs": [],
   "source": []
  },
  {
   "cell_type": "code",
   "execution_count": 37,
   "id": "5c185337",
   "metadata": {},
   "outputs": [
    {
     "name": "stdout",
     "output_type": "stream",
     "text": [
      "How many symbols would you like?\n",
      "3\n",
      "['%', '#', '!']\n"
     ]
    }
   ],
   "source": [
    "no_symbols = int(input(\"How many symbols would you like?\\n\"))\n",
    "\n",
    "\n",
    "symbols = ['!', '@', '#', '$', '%', '^', '&', '*']\n",
    "\n",
    "# symbol_pos = random.randint(0,8)  \n",
    "# random_symbol = symbols[symbol_pos]\n",
    "\n",
    "password_symbols = []\n",
    "for each in range(0,no_symbols):\n",
    "    password_symbols.append(symbols[random.randint(0,8)])\n",
    "print(password_symbols)\n"
   ]
  },
  {
   "cell_type": "code",
   "execution_count": 110,
   "id": "acf583ee",
   "metadata": {},
   "outputs": [
    {
     "name": "stdout",
     "output_type": "stream",
     "text": [
      "['f', 'i', 'f', '1', '4', '7', '2', '%', '#', '!']\n",
      "Here is your password: 7#f%f4!12i\n"
     ]
    }
   ],
   "source": [
    "password_list = password_letters + password_numbers + password_symbols\n",
    "print(password_list)\n",
    "random.shuffle(password_list)\n",
    "\n",
    "password = \"\".join(password_list)\n",
    "\n",
    "print(f\"Here is your password: {password}\")\n"
   ]
  },
  {
   "cell_type": "code",
   "execution_count": 114,
   "id": "3eb4b9f7",
   "metadata": {},
   "outputs": [
    {
     "name": "stdout",
     "output_type": "stream",
     "text": [
      "Welcome to the PyPassword Generator!\n",
      "How many numbers would you like?\n",
      "3\n",
      "['9', '0', '9']\n",
      "How many letters would you like in your password?\n",
      "3\n",
      "['m', 'a', 'p']\n",
      "How many symbols would you like?\n",
      "3\n",
      "['$', '!', '@']\n",
      "['9', '0', '9', 'm', 'a', 'p', '$', '!', '@']\n",
      "Here is your password: @!9a0$pm9\n"
     ]
    }
   ],
   "source": [
    "import random \n",
    "print(\"Welcome to the PyPassword Generator!\")\n",
    "\n",
    "\n",
    "# numbers\n",
    "no_numbers = int(input(\"How many numbers would you like?\\n\"))\n",
    "random_number = random.randint(0,9)\n",
    "\n",
    "password_numbers = []\n",
    "for each in range(0,no_numbers):\n",
    "    password_numbers.append(str(random.randint(0,9)))\n",
    "print(password_numbers)\n",
    "\n",
    "\n",
    "# letters\n",
    "no_letters = int(input(\"How many letters would you like in your password?\\n\"))\n",
    "alphabet = ['a', 'b', 'c', 'd', 'e', 'f', 'g', 'h', 'i', 'j', 'k', 'l'\n",
    "           , 'm', 'n', 'o', 'p', 'q', 'r', 's', 't', 'u', 'v', 'w', 'x', 'y', 'z']\n",
    "\n",
    "password_letters = []\n",
    "for each in range(0, no_letters):\n",
    "    password_letters.append(alphabet[random.randint(0,26)])\n",
    "print(password_letters)\n",
    "\n",
    "\n",
    "# symbols\n",
    "no_symbols = int(input(\"How many symbols would you like?\\n\"))\n",
    "symbols = ['!', '@', '#', '$', '%', '^', '&', '*']\n",
    "\n",
    "password_symbols = []\n",
    "for each in range(0, no_symbols):\n",
    "    password_symbols.append(symbols[random.randint(0,8)])\n",
    "print(password_symbols)\n",
    "\n",
    "\n",
    "password_list = password_numbers + password_letters + password_symbols\n",
    "print(password_list)\n",
    "random.shuffle(password_list)\n",
    "\n",
    "password = \"\".join(password_list)\n",
    "\n",
    "print(f\"Here is your password: {password}\")"
   ]
  },
  {
   "cell_type": "code",
   "execution_count": 61,
   "id": "d20e0c9c",
   "metadata": {},
   "outputs": [
    {
     "name": "stdout",
     "output_type": "stream",
     "text": [
      "Input a list of students heights 180 124 165 173 189 169 146\n",
      "[180, 124, 165, 173, 189, 169, 146]\n"
     ]
    }
   ],
   "source": [
    "student_heights = input(\"Input a list of students heights \").split()\n",
    "for n in range(0, len(student_heights)):\n",
    "    student_heights[n] = int(student_heights[n])\n",
    "print(student_heights)"
   ]
  },
  {
   "cell_type": "code",
   "execution_count": 70,
   "id": "a2a3afe5",
   "metadata": {},
   "outputs": [
    {
     "name": "stdout",
     "output_type": "stream",
     "text": [
      "1146\n",
      "180 180\n",
      "124 304\n",
      "165 469\n",
      "173 642\n",
      "189 831\n",
      "169 1000\n",
      "146 1146\n",
      "164\n"
     ]
    }
   ],
   "source": [
    "no_students = len(student_heights)\n",
    "total_heights = sum(student_heights)\n",
    "print(total_heights)\n",
    "average_height = round(total_heights / no_students )\n",
    "\n",
    "\n",
    "# using for loops \n",
    "\n",
    "sum_heights = 0 \n",
    "for each in student_heights:\n",
    "    sum_heights += each\n",
    "    print(each, sum_heights)\n",
    "    \n",
    "no_of_students = 0 \n",
    "for height in student_heights:\n",
    "    no_of_students += 1\n",
    "    \n",
    "\n",
    "average_height_fl = round(sum_heights / no_of_students)\n",
    "print(average_height_fl)"
   ]
  },
  {
   "cell_type": "code",
   "execution_count": 71,
   "id": "f14d72a5",
   "metadata": {},
   "outputs": [],
   "source": [
    "student_scores = [78, 65, 89, 86, 55, 91, 64, 89]"
   ]
  },
  {
   "cell_type": "code",
   "execution_count": 80,
   "id": "5e0a6794",
   "metadata": {},
   "outputs": [
    {
     "name": "stdout",
     "output_type": "stream",
     "text": [
      "78\n",
      "hs 78\n",
      "65\n",
      "89\n",
      "hs 89\n",
      "86\n",
      "55\n",
      "91\n",
      "hs 91\n",
      "64\n",
      "89\n",
      "The highest score in the class is: 91\n"
     ]
    }
   ],
   "source": [
    "student_scores = [78, 65, 89, 86, 55, 91, 64, 89]\n",
    "highest_score = 0\n",
    "for score in student_scores:\n",
    "    print(score)\n",
    "    if score >= highest_score:\n",
    "        highest_score = score\n",
    "        print(\"hs\", highest_score)\n",
    "        \n",
    "print(f\"The highest score in the class is: {highest_score}\")"
   ]
  },
  {
   "cell_type": "code",
   "execution_count": 96,
   "id": "15078539",
   "metadata": {},
   "outputs": [
    {
     "name": "stdout",
     "output_type": "stream",
     "text": [
      "0\n",
      "1\n",
      "2\n",
      "3\n",
      "4\n",
      "5\n",
      "2550\n"
     ]
    }
   ],
   "source": [
    "# for loops with range function\n",
    "\n",
    "for number in range(0,6):\n",
    "    print(number)\n",
    "#     from 0 to 5\n",
    "\n",
    "total = 0\n",
    "for number in range(2,101,2):\n",
    "    total += number\n",
    "print(total)\n",
    "# gaussian\n"
   ]
  },
  {
   "cell_type": "code",
   "execution_count": 101,
   "id": "0e608891",
   "metadata": {},
   "outputs": [
    {
     "name": "stdout",
     "output_type": "stream",
     "text": [
      "1\n",
      "2\n",
      "Fizz\n",
      "4\n",
      "Buzz\n",
      "Fizz\n",
      "7\n",
      "8\n",
      "Fizz\n",
      "Buzz\n",
      "11\n",
      "Fizz\n",
      "13\n",
      "14\n",
      "FizzBuzz\n",
      "16\n",
      "17\n",
      "Fizz\n",
      "19\n",
      "Buzz\n",
      "Fizz\n",
      "22\n",
      "23\n",
      "Fizz\n",
      "Buzz\n",
      "26\n",
      "Fizz\n",
      "28\n",
      "29\n",
      "FizzBuzz\n",
      "31\n",
      "32\n",
      "Fizz\n",
      "34\n",
      "Buzz\n",
      "Fizz\n",
      "37\n",
      "38\n",
      "Fizz\n",
      "Buzz\n",
      "41\n",
      "Fizz\n",
      "43\n",
      "44\n",
      "FizzBuzz\n",
      "46\n",
      "47\n",
      "Fizz\n",
      "49\n",
      "Buzz\n",
      "Fizz\n",
      "52\n",
      "53\n",
      "Fizz\n",
      "Buzz\n",
      "56\n",
      "Fizz\n",
      "58\n",
      "59\n",
      "FizzBuzz\n",
      "61\n",
      "62\n",
      "Fizz\n",
      "64\n",
      "Buzz\n",
      "Fizz\n",
      "67\n",
      "68\n",
      "Fizz\n",
      "Buzz\n",
      "71\n",
      "Fizz\n",
      "73\n",
      "74\n",
      "FizzBuzz\n",
      "76\n",
      "77\n",
      "Fizz\n",
      "79\n",
      "Buzz\n",
      "Fizz\n",
      "82\n",
      "83\n",
      "Fizz\n",
      "Buzz\n",
      "86\n",
      "Fizz\n",
      "88\n",
      "89\n",
      "FizzBuzz\n",
      "91\n",
      "92\n",
      "Fizz\n",
      "94\n",
      "Buzz\n",
      "Fizz\n",
      "97\n",
      "98\n",
      "Fizz\n",
      "Buzz\n"
     ]
    }
   ],
   "source": [
    "# FizzBuzz \n",
    "\n",
    "for number in range(1,101):\n",
    "    if number % 3 == 0 and number % 5 == 0:\n",
    "        print(\"FizzBuzz\")\n",
    "    elif number % 5 == 0:\n",
    "        print(\"Buzz\")\n",
    "    elif number % 3 == 0:\n",
    "        print(\"Fizz\")\n",
    "    else:\n",
    "        print(number)\n"
   ]
  },
  {
   "cell_type": "code",
   "execution_count": null,
   "id": "735efe43",
   "metadata": {},
   "outputs": [],
   "source": []
  }
 ],
 "metadata": {
  "kernelspec": {
   "display_name": "Python 3",
   "language": "python",
   "name": "python3"
  },
  "language_info": {
   "codemirror_mode": {
    "name": "ipython",
    "version": 3
   },
   "file_extension": ".py",
   "mimetype": "text/x-python",
   "name": "python",
   "nbconvert_exporter": "python",
   "pygments_lexer": "ipython3",
   "version": "3.8.8"
  }
 },
 "nbformat": 4,
 "nbformat_minor": 5
}
