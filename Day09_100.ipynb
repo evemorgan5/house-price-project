{
 "cells": [
  {
   "cell_type": "code",
   "execution_count": 16,
   "id": "34869269",
   "metadata": {},
   "outputs": [],
   "source": [
    "#  create a dictionary \n",
    "\n",
    "dictionary = {\"Key1\": \"Value1\", \"Key2\": \"Value2\"}\n"
   ]
  },
  {
   "cell_type": "code",
   "execution_count": 17,
   "id": "1055acb8",
   "metadata": {},
   "outputs": [],
   "source": [
    "programming_dict = {\n",
    "\"Bug\": \"An error in a program that prevents the program from running as expected.\",\n",
    "\"Function\": \"A piece of code that you can easily call over and over again.\",\n",
    "\"Loop\" : \"The action of doing something over and over again.\",\n",
    "}"
   ]
  },
  {
   "cell_type": "code",
   "execution_count": 19,
   "id": "ece28edd",
   "metadata": {},
   "outputs": [
    {
     "name": "stdout",
     "output_type": "stream",
     "text": [
      "An error in a program that prevents the program from running as expected.\n",
      "Value1\n"
     ]
    }
   ],
   "source": [
    "print(programming_dict[\"Bug\"])\n",
    "\n",
    "#  becareful to call name of key\n",
    "\n",
    "print(dictionary[\"Key1\"])\n"
   ]
  },
  {
   "cell_type": "code",
   "execution_count": 23,
   "id": "31e97907",
   "metadata": {},
   "outputs": [
    {
     "name": "stdout",
     "output_type": "stream",
     "text": [
      "Bug\n",
      "An error in a program that prevents the program from running as expected.\n",
      "Function\n",
      "A piece of code that you can easily call over and over again.\n",
      "Loop\n",
      "The action of doing something over and over again.\n"
     ]
    }
   ],
   "source": [
    "for key in programming_dict:\n",
    "    print(key)\n",
    "    print(programming_dict[key])\n",
    "   \n",
    "\n"
   ]
  },
  {
   "cell_type": "code",
   "execution_count": 24,
   "id": "0156eb33",
   "metadata": {},
   "outputs": [
    {
     "name": "stdout",
     "output_type": "stream",
     "text": [
      "{'Bug': 'An error in a program that prevents the program from running as expected.', 'Function': 'A piece of code that you can easily call over and over again.', 'Loop': 'The action of doing something over and over again.'}\n"
     ]
    }
   ],
   "source": [
    "\n",
    "print(programming_dict)"
   ]
  },
  {
   "cell_type": "code",
   "execution_count": 25,
   "id": "9fbe0cd4",
   "metadata": {},
   "outputs": [],
   "source": [
    "# building a grading program \n",
    "\n",
    "\n",
    "student_scores = {\n",
    "    \"Harry\": 81, \n",
    "    \"Ron\": 78,\n",
    "    \"Hermione\": 99, \n",
    "    \"Draco\": 74,\n",
    "    \"Neville\": 62,\n",
    "}"
   ]
  },
  {
   "cell_type": "code",
   "execution_count": 26,
   "id": "e4bc7eb3",
   "metadata": {},
   "outputs": [],
   "source": [
    "# key = name\n",
    "# value = score\n"
   ]
  },
  {
   "cell_type": "code",
   "execution_count": 41,
   "id": "12c31396",
   "metadata": {},
   "outputs": [
    {
     "name": "stdout",
     "output_type": "stream",
     "text": [
      "{'Harry': 'Exceeds Expectations', 'Ron': 'Acceptable', 'Hermione': 'Outstanding', 'Draco': 'Acceptable', 'Neville': 'Fail'}\n"
     ]
    }
   ],
   "source": [
    "student_grades = { \n",
    "}\n",
    "\n",
    "for each in student_scores:\n",
    "    score = student_scores[each]\n",
    "    if score >= 91:\n",
    "        student_grades[each] = \"Outstanding\"\n",
    "    elif score >= 81:\n",
    "        student_grades[each] = \"Exceeds Expectations\"  \n",
    "    elif score >= 71:\n",
    "        student_grades[each] = \"Acceptable\"\n",
    "    else:\n",
    "        student_grades[each] = \"Fail\"\n",
    "\n",
    "print(student_grades)"
   ]
  },
  {
   "cell_type": "code",
   "execution_count": 48,
   "id": "1c0df5de",
   "metadata": {},
   "outputs": [],
   "source": [
    "# nested dictionaries\n",
    "\n",
    "travel_log = {\n",
    "    \"France\": {\"cities_visited\": [\"Paris\", \"Lillie\", \"Dijon\"], \"total_visits\": 12},\n",
    "    \"Germany\": {\"cities_visited\": [\"Berlin\", \"Hamburg\", \"Stuttgart\"], \"total_visits\": 5}\n",
    "    }"
   ]
  },
  {
   "cell_type": "code",
   "execution_count": 81,
   "id": "9c8554b8",
   "metadata": {},
   "outputs": [],
   "source": [
    "# list of dictionaires\n",
    "\n",
    "travel_log = [\n",
    "    {\"country\": \"France\",\n",
    "     \"cities_visited\": [\"Paris\", \"Lillie\", \"Dijon\"], \n",
    "     \"total_visits\": 12},\n",
    "    {\"country\": \"Germany\", \n",
    "     \"cities_visited\": [\"Berlin\", \"Hamburg\", \"Stuttgart\"], \n",
    "     \"total_visits\": 5},\n",
    "    ]"
   ]
  },
  {
   "cell_type": "code",
   "execution_count": 82,
   "id": "aba3904a",
   "metadata": {},
   "outputs": [
    {
     "name": "stdout",
     "output_type": "stream",
     "text": [
      "{'country': 'Russia', 'cities': ['Moscow', 'Saint Petersberg'], 'visits': 2}\n",
      "[{'country': 'France', 'cities_visited': ['Paris', 'Lillie', 'Dijon'], 'total_visits': 12}, {'country': 'Germany', 'cities_visited': ['Berlin', 'Hamburg', 'Stuttgart'], 'total_visits': 5}, {'country': 'Russia', 'cities': ['Moscow', 'Saint Petersberg'], 'visits': 2}]\n"
     ]
    }
   ],
   "source": [
    "# country = \"Russia\"\n",
    "# visits = 2\n",
    "# ls_cities = [\"Moscow\", \"Saint Petersberg\"]\n",
    "\n",
    "def add_new_country(country, ls_cities, visits):\n",
    "    new_country = {\"country\": country, \"cities\": ls_cities, \"visits\": visits}\n",
    "    print(new_country)\n",
    "    travel_log.append(new_country)\n",
    "\n",
    "\n",
    "add_new_country(\"Russia\", [\"Moscow\", \"Saint Petersberg\"], 2)\n",
    "print(travel_log)\n"
   ]
  },
  {
   "cell_type": "code",
   "execution_count": 83,
   "id": "5e0fdce2",
   "metadata": {},
   "outputs": [
    {
     "name": "stdout",
     "output_type": "stream",
     "text": [
      "{'country': 'Russia', 'cities': ['Moscow', 'Saint Petersberg'], 'visits': 2}\n",
      "[{'country': 'France', 'cities_visited': ['Paris', 'Lillie', 'Dijon'], 'total_visits': 12}, {'country': 'Germany', 'cities_visited': ['Berlin', 'Hamburg', 'Stuttgart'], 'total_visits': 5}, {'country': 'Russia', 'cities': ['Moscow', 'Saint Petersberg'], 'visits': 2}, {'country': 'Russia', 'cities': ['Moscow', 'Saint Petersberg'], 'visits': 2}]\n"
     ]
    }
   ],
   "source": [
    "def add_new_country(country, ls_cities, visits):\n",
    "    new_country = {}\n",
    "    new_country[\"country\"] = country\n",
    "    new_country[\"cities\"] = ls_cities\n",
    "    new_country[\"visits\"] = visits\n",
    "    print(new_country)\n",
    "    travel_log.append(new_country)\n",
    "\n",
    "\n",
    "add_new_country(\"Russia\", [\"Moscow\", \"Saint Petersberg\"], 2)\n",
    "print(travel_log)\n"
   ]
  },
  {
   "cell_type": "code",
   "execution_count": 89,
   "id": "aa632249",
   "metadata": {},
   "outputs": [
    {
     "data": {
      "text/plain": [
       "{'a': 9, 'b': 8, 'c': 7}"
      ]
     },
     "execution_count": 89,
     "metadata": {},
     "output_type": "execute_result"
    }
   ],
   "source": [
    "starting_dict = {\"a\": 9, \"b\": 8, }\n",
    "starting_dict[\"c\"]= 7\n",
    "final_dict = starting_dict\n",
    "final_dict"
   ]
  },
  {
   "cell_type": "code",
   "execution_count": 105,
   "id": "3a9a15d5",
   "metadata": {},
   "outputs": [
    {
     "name": "stdout",
     "output_type": "stream",
     "text": [
      "{'a': 2, 'b': 3, 'c': 4}\n"
     ]
    }
   ],
   "source": [
    "dict = {\"a\": 1, \"b\": 2, \"c\": 3,}\n",
    "# dict[\"c\"] = [1, 2, 3]\n",
    "\n",
    "# dict[1] = 4\n",
    "for key in dict:\n",
    "    dict[key] += 1\n",
    "print(dict)"
   ]
  },
  {
   "cell_type": "code",
   "execution_count": 108,
   "id": "f2258600",
   "metadata": {},
   "outputs": [],
   "source": [
    "order = {\"starter\": {1: \"Salad\", 2: \"Soup\"},\n",
    "        \"main\": {1: [\"Burger\", \"Fries\"], 2: [\"Steak\"]},\n",
    "        \"dessert\": {1: [\"Ice Cream\"], 2:[]},\n",
    "        }"
   ]
  },
  {
   "cell_type": "code",
   "execution_count": 113,
   "id": "faa2f04f",
   "metadata": {},
   "outputs": [
    {
     "name": "stdout",
     "output_type": "stream",
     "text": [
      "Steak\n"
     ]
    }
   ],
   "source": [
    "print(order[\"main\"][2][0])"
   ]
  },
  {
   "cell_type": "code",
   "execution_count": 154,
   "id": "c7d3c96b",
   "metadata": {},
   "outputs": [
    {
     "name": "stdout",
     "output_type": "stream",
     "text": [
      "What is your name?: rah\n",
      "what's your bid?: $555\n",
      "Are there any other bidders? Type 'yes' or 'no'.\n",
      "sootie\n",
      "What is your name?: sootie\n",
      "what's your bid?: $10000\n",
      "Are there any other bidders? Type 'yes' or 'no'.\n",
      "no\n",
      "The winner is sootie with a bid of $10000\n"
     ]
    }
   ],
   "source": [
    "print(\"Welcome to the secret auction program.\")\n",
    "\n",
    "from IPython.display import clear_output\n",
    "\n",
    "bids = {}\n",
    "bidding_finished = False\n",
    "\n",
    "\n",
    "\n",
    "def find_highest_bidder(bidding_record):\n",
    "#     {\"Eve\": 123, \"Harry\": 234}\n",
    "    highest_bid = 0\n",
    "    winner = \"\"\n",
    "    for each_bidder in bidding_record:\n",
    "        bid_amount = bidding_record[each_bidder]\n",
    "        if bid_amount > highest_bid:\n",
    "            highest_bid = bid_amount\n",
    "            winner = each_bidder\n",
    "    print(f\"The winner is {winner} with a bid of ${highest_bid}\")\n",
    "\n",
    "# name = input(\"What is your name?: \").lower()\n",
    "# bid = int(input(\"what's your bid?: $\"))\n",
    "# bids[name] = bid\n",
    "\n",
    "\n",
    "\n",
    "while not bidding_finished:\n",
    "    name = input(\"What is your name?: \").lower()\n",
    "    bid = int(input(\"what's your bid?: $\"))\n",
    "    bids[name] = bid\n",
    "    should_continue = input(\"Are there any other bidders? Type 'yes' or 'no'.\\n\")\n",
    "    if should_continue == \"no\":\n",
    "        bidding_finished = True\n",
    "        find_highest_bidder(bids)\n",
    "    elif should_continue == \"yes\":\n",
    "        clear_output()\n"
   ]
  },
  {
   "cell_type": "code",
   "execution_count": 155,
   "id": "0ca7f9a6",
   "metadata": {},
   "outputs": [
    {
     "data": {
      "text/plain": [
       "{'eve': 123, 'rah': 555, 'sootie': 10000}"
      ]
     },
     "execution_count": 155,
     "metadata": {},
     "output_type": "execute_result"
    }
   ],
   "source": [
    "bids"
   ]
  },
  {
   "cell_type": "code",
   "execution_count": 156,
   "id": "fa1b7e87",
   "metadata": {},
   "outputs": [
    {
     "data": {
      "text/plain": [
       "{'eve': 123,\n",
       " 'harry': 333,\n",
       " 'harry ': 234,\n",
       " 'ghar': 234,\n",
       " 'rrahh': 555,\n",
       " 'rah': 555}"
      ]
     },
     "execution_count": 156,
     "metadata": {},
     "output_type": "execute_result"
    }
   ],
   "source": [
    "bets_dict"
   ]
  },
  {
   "cell_type": "code",
   "execution_count": null,
   "id": "c977c114",
   "metadata": {},
   "outputs": [],
   "source": [
    "\n"
   ]
  },
  {
   "cell_type": "code",
   "execution_count": null,
   "id": "ecbdfb30",
   "metadata": {},
   "outputs": [],
   "source": []
  },
  {
   "cell_type": "code",
   "execution_count": null,
   "id": "9abf1127",
   "metadata": {},
   "outputs": [],
   "source": []
  }
 ],
 "metadata": {
  "kernelspec": {
   "display_name": "Python 3",
   "language": "python",
   "name": "python3"
  },
  "language_info": {
   "codemirror_mode": {
    "name": "ipython",
    "version": 3
   },
   "file_extension": ".py",
   "mimetype": "text/x-python",
   "name": "python",
   "nbconvert_exporter": "python",
   "pygments_lexer": "ipython3",
   "version": "3.8.8"
  }
 },
 "nbformat": 4,
 "nbformat_minor": 5
}
