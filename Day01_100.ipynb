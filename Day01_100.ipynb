{
 "cells": [
  {
   "cell_type": "code",
   "execution_count": 34,
   "id": "cdb1422d",
   "metadata": {},
   "outputs": [
    {
     "name": "stdout",
     "output_type": "stream",
     "text": [
      "20 4 12\n"
     ]
    }
   ],
   "source": [
    "def foo(a, b = 4, c = 6):\n",
    "    print(a, b, c)\n",
    "    \n",
    "foo(20, c = 12)"
   ]
  },
  {
   "cell_type": "code",
   "execution_count": 35,
   "id": "690c3a8c",
   "metadata": {},
   "outputs": [
    {
     "name": "stdout",
     "output_type": "stream",
     "text": [
      "4 (7, 3, 0) {'x': 10, 'y': 64}\n"
     ]
    }
   ],
   "source": [
    "def all_aboard(a, *args, **kw):\n",
    "    print(a, args, kw)\n",
    "all_aboard(4, 7, 3, 0, x = 10, y = 64)"
   ]
  },
  {
   "cell_type": "code",
   "execution_count": 36,
   "id": "0b934acb",
   "metadata": {},
   "outputs": [
    {
     "name": "stdout",
     "output_type": "stream",
     "text": [
      "[5, 11, 37]\n"
     ]
    }
   ],
   "source": [
    "numbers = [1, 1, 2, 3, 5, 8, 13, 21, 34, 55]\n",
    "result = [num + 3 for num in numbers if num % 2 == 0]\n",
    "print(result)"
   ]
  },
  {
   "cell_type": "code",
   "execution_count": 40,
   "id": "5c9768b0",
   "metadata": {},
   "outputs": [
    {
     "name": "stdout",
     "output_type": "stream",
     "text": [
      "[5, 11, 37]\n"
     ]
    }
   ],
   "source": [
    "result1 = []\n",
    "for num in numbers:\n",
    "    if num % 2 == 0:\n",
    "        result1.append(num + 3)\n",
    "        # result1 += [num + 3]\n",
    "print(result1)"
   ]
  },
  {
   "cell_type": "code",
   "execution_count": 41,
   "id": "be70111e",
   "metadata": {},
   "outputs": [
    {
     "name": "stdout",
     "output_type": "stream",
     "text": [
      "helloworld\n"
     ]
    }
   ],
   "source": [
    "print(\"hello\" \"world\")"
   ]
  },
  {
   "cell_type": "code",
   "execution_count": 42,
   "id": "9a162827",
   "metadata": {},
   "outputs": [
    {
     "name": "stdout",
     "output_type": "stream",
     "text": [
      "Hello world!\n"
     ]
    }
   ],
   "source": [
    "print(\"Hello world!\")"
   ]
  },
  {
   "cell_type": "code",
   "execution_count": 47,
   "id": "3107b7c7",
   "metadata": {},
   "outputs": [
    {
     "name": "stdout",
     "output_type": "stream",
     "text": [
      "Day 1 - Python Print Function \n",
      "The function is declared like this:\n",
      "print('what to print')\n",
      "Hello&world!\n",
      "Hello world!\n",
      "Helloworld!\n"
     ]
    }
   ],
   "source": [
    "print(\"Day 1 - Python Print Function \\nThe function is declared like this:\\nprint('what to print')\")\n",
    "\n",
    "print(\"Hello\" + \"&\" + \"world!\")\n",
    "print(\"Hello\" + \" \" + \"world!\")\n",
    "print(\"Hello\" + \"world!\")"
   ]
  },
  {
   "cell_type": "code",
   "execution_count": 49,
   "id": "878b3e5b",
   "metadata": {},
   "outputs": [
    {
     "name": "stdout",
     "output_type": "stream",
     "text": [
      "Day 1 - String manipulation\n",
      "String concatenation is done with the '+' sign.\n",
      "e.g. print('Hello' + 'world')\n",
      "New lines can be created with a backslash and n.\n",
      "What is your name?Eve\n",
      "Hello Eve!\n"
     ]
    }
   ],
   "source": [
    "print(\"Day 1 - String manipulation\")\n",
    "print(\"String concatenation is done with the '+' sign.\")\n",
    "print(\"e.g. print('Hello' + 'world')\")\n",
    "print(\"New lines can be created with a backslash and n.\")\n",
    "# input(\"What is your name?\")\n",
    "# input prints statement and asks user to input data \n",
    "print(\"Hello \" + input(\"What is your name?\") + \"!\")\n",
    "\n"
   ]
  },
  {
   "cell_type": "code",
   "execution_count": 61,
   "id": "0bcdd54c",
   "metadata": {},
   "outputs": [
    {
     "name": "stdout",
     "output_type": "stream",
     "text": [
      "What is your name? eve\n",
      "3\n"
     ]
    }
   ],
   "source": [
    "# print the length of your name\n",
    "# input length \n",
    "\n",
    "print(len(input(\"What is your name? \")))"
   ]
  },
  {
   "cell_type": "code",
   "execution_count": 77,
   "id": "68763c6b",
   "metadata": {},
   "outputs": [
    {
     "name": "stdout",
     "output_type": "stream",
     "text": [
      "What is your name? eve\n"
     ]
    }
   ],
   "source": [
    "name = input(\"What is your name? \")"
   ]
  },
  {
   "cell_type": "markdown",
   "id": "d6a24cee",
   "metadata": {},
   "source": [
    "name = \"harry\"\n",
    "print(name)"
   ]
  },
  {
   "cell_type": "code",
   "execution_count": 78,
   "id": "3ee84987",
   "metadata": {},
   "outputs": [
    {
     "name": "stdout",
     "output_type": "stream",
     "text": [
      "harry\n"
     ]
    }
   ],
   "source": [
    "name = \"harry\"\n",
    "print(name)"
   ]
  },
  {
   "cell_type": "code",
   "execution_count": 79,
   "id": "9b9d2c8e",
   "metadata": {},
   "outputs": [],
   "source": [
    "length = len(name)"
   ]
  },
  {
   "cell_type": "code",
   "execution_count": 80,
   "id": "28166ce9",
   "metadata": {},
   "outputs": [
    {
     "name": "stdout",
     "output_type": "stream",
     "text": [
      "5\n"
     ]
    }
   ],
   "source": [
    "print(length)"
   ]
  },
  {
   "cell_type": "code",
   "execution_count": 81,
   "id": "69c00a88",
   "metadata": {},
   "outputs": [
    {
     "name": "stdout",
     "output_type": "stream",
     "text": [
      "What is your name? eve\n",
      "3\n"
     ]
    }
   ],
   "source": [
    "name = input(\"What is your name? \")\n",
    "length = len(name)\n",
    "print(length)"
   ]
  },
  {
   "cell_type": "code",
   "execution_count": 83,
   "id": "f97565cc",
   "metadata": {},
   "outputs": [
    {
     "name": "stdout",
     "output_type": "stream",
     "text": [
      "a: 5\n"
     ]
    }
   ],
   "source": [
    "a = input(\"a: \")\n"
   ]
  },
  {
   "cell_type": "code",
   "execution_count": 84,
   "id": "e0595a63",
   "metadata": {},
   "outputs": [
    {
     "name": "stdout",
     "output_type": "stream",
     "text": [
      "b: 6\n"
     ]
    }
   ],
   "source": [
    "b = input(\"b: \")"
   ]
  },
  {
   "cell_type": "code",
   "execution_count": 85,
   "id": "3a6b0d83",
   "metadata": {},
   "outputs": [],
   "source": [
    "c = a"
   ]
  },
  {
   "cell_type": "code",
   "execution_count": 86,
   "id": "340510a0",
   "metadata": {},
   "outputs": [],
   "source": [
    "a = b"
   ]
  },
  {
   "cell_type": "code",
   "execution_count": 87,
   "id": "3e7b355c",
   "metadata": {},
   "outputs": [],
   "source": [
    "b = c"
   ]
  },
  {
   "cell_type": "code",
   "execution_count": 90,
   "id": "4d12fd3e",
   "metadata": {},
   "outputs": [
    {
     "name": "stdout",
     "output_type": "stream",
     "text": [
      "What is your name? eve\n",
      "3\n"
     ]
    }
   ],
   "source": [
    "user_name = input(\"What is your name? \")\n",
    "length = len(user_name)\n",
    "print(length)"
   ]
  },
  {
   "cell_type": "code",
   "execution_count": 106,
   "id": "3c498ba9",
   "metadata": {},
   "outputs": [
    {
     "ename": "KeyboardInterrupt",
     "evalue": "Interrupted by user",
     "output_type": "error",
     "traceback": [
      "\u001b[0;31m---------------------------------------------------------------------------\u001b[0m",
      "\u001b[0;31mKeyboardInterrupt\u001b[0m                         Traceback (most recent call last)",
      "\u001b[0;32m<ipython-input-106-d9709c964346>\u001b[0m in \u001b[0;36m<module>\u001b[0;34m\u001b[0m\n\u001b[0;32m----> 1\u001b[0;31m \u001b[0mprint\u001b[0m\u001b[0;34m(\u001b[0m\u001b[0;34m\"Hello \"\u001b[0m \u001b[0;34m+\u001b[0m \u001b[0minput\u001b[0m\u001b[0;34m(\u001b[0m\u001b[0;34m\"What is your name?\\n\"\u001b[0m\u001b[0;34m)\u001b[0m \u001b[0;34m+\u001b[0m \u001b[0;34m\"!\"\u001b[0m\u001b[0;34m)\u001b[0m\u001b[0;34m\u001b[0m\u001b[0;34m\u001b[0m\u001b[0m\n\u001b[0m\u001b[1;32m      2\u001b[0m \u001b[0mcity\u001b[0m \u001b[0;34m=\u001b[0m \u001b[0minput\u001b[0m\u001b[0;34m(\u001b[0m\u001b[0;34m\"What is the name of the city you grew up in?\\n\"\u001b[0m\u001b[0;34m)\u001b[0m\u001b[0;34m\u001b[0m\u001b[0;34m\u001b[0m\u001b[0m\n\u001b[1;32m      3\u001b[0m \u001b[0mpet\u001b[0m \u001b[0;34m=\u001b[0m \u001b[0minput\u001b[0m\u001b[0;34m(\u001b[0m\u001b[0;34m\"What is the name of a pet?\\n\"\u001b[0m\u001b[0;34m)\u001b[0m\u001b[0;34m\u001b[0m\u001b[0;34m\u001b[0m\u001b[0m\n\u001b[1;32m      4\u001b[0m \u001b[0;34m\u001b[0m\u001b[0m\n\u001b[1;32m      5\u001b[0m \u001b[0mband_name\u001b[0m \u001b[0;34m=\u001b[0m \u001b[0mcity\u001b[0m \u001b[0;34m+\u001b[0m \u001b[0;34m\" \"\u001b[0m \u001b[0;34m+\u001b[0m \u001b[0mpet\u001b[0m\u001b[0;34m\u001b[0m\u001b[0;34m\u001b[0m\u001b[0m\n",
      "\u001b[0;32m/usr/local/anaconda3/lib/python3.8/site-packages/ipykernel/kernelbase.py\u001b[0m in \u001b[0;36mraw_input\u001b[0;34m(self, prompt)\u001b[0m\n\u001b[1;32m    858\u001b[0m                 \u001b[0;34m\"raw_input was called, but this frontend does not support input requests.\"\u001b[0m\u001b[0;34m\u001b[0m\u001b[0;34m\u001b[0m\u001b[0m\n\u001b[1;32m    859\u001b[0m             )\n\u001b[0;32m--> 860\u001b[0;31m         return self._input_request(str(prompt),\n\u001b[0m\u001b[1;32m    861\u001b[0m             \u001b[0mself\u001b[0m\u001b[0;34m.\u001b[0m\u001b[0m_parent_ident\u001b[0m\u001b[0;34m,\u001b[0m\u001b[0;34m\u001b[0m\u001b[0;34m\u001b[0m\u001b[0m\n\u001b[1;32m    862\u001b[0m             \u001b[0mself\u001b[0m\u001b[0;34m.\u001b[0m\u001b[0m_parent_header\u001b[0m\u001b[0;34m,\u001b[0m\u001b[0;34m\u001b[0m\u001b[0;34m\u001b[0m\u001b[0m\n",
      "\u001b[0;32m/usr/local/anaconda3/lib/python3.8/site-packages/ipykernel/kernelbase.py\u001b[0m in \u001b[0;36m_input_request\u001b[0;34m(self, prompt, ident, parent, password)\u001b[0m\n\u001b[1;32m    902\u001b[0m             \u001b[0;32mexcept\u001b[0m \u001b[0mKeyboardInterrupt\u001b[0m\u001b[0;34m:\u001b[0m\u001b[0;34m\u001b[0m\u001b[0;34m\u001b[0m\u001b[0m\n\u001b[1;32m    903\u001b[0m                 \u001b[0;31m# re-raise KeyboardInterrupt, to truncate traceback\u001b[0m\u001b[0;34m\u001b[0m\u001b[0;34m\u001b[0m\u001b[0;34m\u001b[0m\u001b[0m\n\u001b[0;32m--> 904\u001b[0;31m                 \u001b[0;32mraise\u001b[0m \u001b[0mKeyboardInterrupt\u001b[0m\u001b[0;34m(\u001b[0m\u001b[0;34m\"Interrupted by user\"\u001b[0m\u001b[0;34m)\u001b[0m \u001b[0;32mfrom\u001b[0m \u001b[0;32mNone\u001b[0m\u001b[0;34m\u001b[0m\u001b[0;34m\u001b[0m\u001b[0m\n\u001b[0m\u001b[1;32m    905\u001b[0m             \u001b[0;32mexcept\u001b[0m \u001b[0mException\u001b[0m \u001b[0;32mas\u001b[0m \u001b[0me\u001b[0m\u001b[0;34m:\u001b[0m\u001b[0;34m\u001b[0m\u001b[0;34m\u001b[0m\u001b[0m\n\u001b[1;32m    906\u001b[0m                 \u001b[0mself\u001b[0m\u001b[0;34m.\u001b[0m\u001b[0mlog\u001b[0m\u001b[0;34m.\u001b[0m\u001b[0mwarning\u001b[0m\u001b[0;34m(\u001b[0m\u001b[0;34m\"Invalid Message:\"\u001b[0m\u001b[0;34m,\u001b[0m \u001b[0mexc_info\u001b[0m\u001b[0;34m=\u001b[0m\u001b[0;32mTrue\u001b[0m\u001b[0;34m)\u001b[0m\u001b[0;34m\u001b[0m\u001b[0;34m\u001b[0m\u001b[0m\n",
      "\u001b[0;31mKeyboardInterrupt\u001b[0m: Interrupted by user"
     ]
    }
   ],
   "source": [
    "print(\"Hello \" + input(\"What is your name?\\n\") + \"!\")\n",
    "city = input(\"What is the name of the city you grew up in?\\n\")\n",
    "pet = input(\"What is the name of a pet?\\n\")\n",
    "\n",
    "band_name = city + \" \" + pet"
   ]
  },
  {
   "cell_type": "code",
   "execution_count": 102,
   "id": "e067d076",
   "metadata": {},
   "outputs": [
    {
     "name": "stdout",
     "output_type": "stream",
     "text": [
      "Your band name could be dublin papadude\n"
     ]
    }
   ],
   "source": [
    "print(\"Your band name could be \" + band_name)"
   ]
  },
  {
   "cell_type": "code",
   "execution_count": null,
   "id": "50e0233b",
   "metadata": {},
   "outputs": [],
   "source": []
  }
 ],
 "metadata": {
  "kernelspec": {
   "display_name": "Python 3",
   "language": "python",
   "name": "python3"
  },
  "language_info": {
   "codemirror_mode": {
    "name": "ipython",
    "version": 3
   },
   "file_extension": ".py",
   "mimetype": "text/x-python",
   "name": "python",
   "nbconvert_exporter": "python",
   "pygments_lexer": "ipython3",
   "version": "3.8.8"
  }
 },
 "nbformat": 4,
 "nbformat_minor": 5
}
