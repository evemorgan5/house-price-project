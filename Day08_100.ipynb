{
 "cells": [
  {
   "cell_type": "code",
   "execution_count": 1,
   "id": "441a0359",
   "metadata": {},
   "outputs": [],
   "source": [
    "#  functions with inputs\n"
   ]
  },
  {
   "cell_type": "code",
   "execution_count": 359,
   "id": "11589746",
   "metadata": {},
   "outputs": [
    {
     "name": "stdout",
     "output_type": "stream",
     "text": [
      "Type your message: hey Rah\n",
      "Type the shift number: 2\n"
     ]
    }
   ],
   "source": [
    "# build a cipher program \n",
    "# caesar cipher\n",
    "# each letter shifted by a predetermined amount\n",
    "\n",
    "# type 'encode' to encrypt, type 'decode' to decrypt: \n",
    "\n",
    "message = input(\"Type your message: \").lower()\n",
    "\n",
    "shift_number = int(input(\"Type the shift number: \"))\n",
    "\n",
    "alphabet = [\"a\", \"b\", \"c\", \"d\", \"e\", \"f\", \"g\", \"h\", \"i\", \"j\", \"k\", \"l\", \"m\", \"n\", \"o\", \"p\", \"q\", \"r\", \"s\", \"t\", \"u\", \"v\", \"w\", \"x\", \"y\", \"z\"]\n",
    "\n"
   ]
  },
  {
   "cell_type": "code",
   "execution_count": 360,
   "id": "e5b51cbb",
   "metadata": {},
   "outputs": [],
   "source": [
    "# ls_message = []\n",
    "# for letter in message:\n",
    "#     ls_message.append(letter)\n",
    "    \n",
    "# print(message)   \n",
    "# print(message[0]) \n",
    "# print(ls_message)\n",
    "# print(ls_message[0])\n"
   ]
  },
  {
   "cell_type": "code",
   "execution_count": 402,
   "id": "1c91b037",
   "metadata": {},
   "outputs": [
    {
     "data": {
      "text/plain": [
       "'j'"
      ]
     },
     "execution_count": 402,
     "metadata": {},
     "output_type": "execute_result"
    }
   ],
   "source": [
    "def encode_letter(letter, shift_number_pos):\n",
    "    alphabet = [\"a\", \"b\", \"c\", \"d\", \"e\", \"f\", \"g\", \"h\", \"i\", \"j\", \"k\", \"l\", \"m\", \"n\", \"o\", \"p\", \"q\", \"r\", \"s\", \"t\", \"u\", \"v\", \"w\", \"x\", \"y\", \"z\"]\n",
    "    for position in range(len(alphabet)):\n",
    "#         print(position)\n",
    "        if alphabet[position] == letter:\n",
    "            new_pos = position + shift_number_pos \n",
    "#             print(new_pos)\n",
    "            if new_pos < 26:\n",
    "                letter = alphabet[new_pos]\n",
    "            else:\n",
    "                letter = alphabet[new_pos-26]\n",
    "            break\n",
    "    return letter    \n",
    "\n",
    "encode_letter(\"h\", 2)"
   ]
  },
  {
   "cell_type": "code",
   "execution_count": 373,
   "id": "eddd4a74",
   "metadata": {},
   "outputs": [
    {
     "name": "stdout",
     "output_type": "stream",
     "text": [
      "h\n",
      "e\n",
      "y\n",
      " \n",
      "r\n",
      "a\n",
      "h\n",
      "hey rah\n"
     ]
    }
   ],
   "source": [
    "for each in message:\n",
    "    print(each)\n",
    "print(message)"
   ]
  },
  {
   "cell_type": "code",
   "execution_count": 400,
   "id": "5ad13574",
   "metadata": {},
   "outputs": [],
   "source": [
    "def encode_message(message, shift_number_pos):\n",
    "    encode_message_ls = []\n",
    "    for each in message:\n",
    "    #     print(each)\n",
    "        each = encode_letter(each, shift_number_pos)\n",
    "        encode_message_ls.append(each)\n",
    "    # print(encode_message_ls, message)\n",
    "\n",
    "    encode_message = ''.join(encode_message_ls)\n",
    "    return encode_message"
   ]
  },
  {
   "cell_type": "code",
   "execution_count": 401,
   "id": "46e78bde",
   "metadata": {},
   "outputs": [
    {
     "data": {
      "text/plain": [
       "'cde'"
      ]
     },
     "execution_count": 401,
     "metadata": {},
     "output_type": "execute_result"
    }
   ],
   "source": [
    "encode_message(\"abc\", 2)"
   ]
  },
  {
   "cell_type": "code",
   "execution_count": null,
   "id": "d6ae3714",
   "metadata": {},
   "outputs": [],
   "source": []
  },
  {
   "cell_type": "code",
   "execution_count": 365,
   "id": "4a43d5f1",
   "metadata": {},
   "outputs": [
    {
     "name": "stdout",
     "output_type": "stream",
     "text": [
      "Hello Eve\n",
      "How do you do Harry?\n",
      "Isn't the weather nice today?\n",
      "Hello Eve\n",
      "How do you do Eve?\n"
     ]
    }
   ],
   "source": [
    "# simple function\n",
    "\n",
    "def greet():\n",
    "    print(\"Hello Eve\")\n",
    "    print(\"How do you do Harry?\")\n",
    "    print(\"Isn't the weather nice today?\")\n",
    "greet()\n",
    "\n",
    "\n",
    "# function that allows for input\n",
    "\n",
    "def greet_with_name(name):\n",
    "    print(f\"Hello {name}\")\n",
    "    print(f\"How do you do {name}?\")\n",
    "greet_with_name(\"Eve\")\n",
    "\n",
    "# def my_function(something):\n",
    "#    something  =  123\n",
    "#  parameter ^   argument^\n",
    "\n",
    "    "
   ]
  },
  {
   "cell_type": "code",
   "execution_count": 366,
   "id": "a8fce69b",
   "metadata": {},
   "outputs": [
    {
     "name": "stdout",
     "output_type": "stream",
     "text": [
      "Hello Eve\n",
      "How is New York?\n",
      "Hello Harry\n",
      "How is SanFrancisco?\n"
     ]
    }
   ],
   "source": [
    "def greet_with(name, location):\n",
    "    print(f\"Hello {name}\")\n",
    "    print(f\"How is {location}?\")\n",
    "    \n",
    "greet_with(\"Eve\", \"New York\")\n",
    "\n",
    "# knows which argument is associated with which parameter\n",
    "\n",
    "greet_with(name = \"Harry\", location = \"SanFrancisco\")\n",
    "\n"
   ]
  },
  {
   "cell_type": "code",
   "execution_count": 367,
   "id": "6ec42704",
   "metadata": {},
   "outputs": [
    {
     "name": "stdout",
     "output_type": "stream",
     "text": [
      "What is the height of the wall in m? 5\n",
      "What is the width of the wall in m? 4\n",
      "4\n"
     ]
    }
   ],
   "source": [
    "##### calculate how many litres of paint to cover a wall\n",
    "\n",
    "# area calculation\n",
    "\n",
    "height = int(input(\"What is the height of the wall in m? \"))\n",
    "width = int(input(\"What is the width of the wall in m? \"))\n",
    "coverage = 5\n",
    "\n",
    "no_cans_paint_wall = round((height * width) / coverage)\n",
    "\n",
    "print(no_cans_paint_wall)\n",
    "\n",
    "# 1 can covers 5sq m2 "
   ]
  },
  {
   "cell_type": "code",
   "execution_count": 368,
   "id": "bdc2877e",
   "metadata": {},
   "outputs": [
    {
     "name": "stdout",
     "output_type": "stream",
     "text": [
      "You will need 2 cans of paint.\n"
     ]
    }
   ],
   "source": [
    "def no_cans_paint_wall(height, width, coverage):\n",
    "    no_cans_paint = round((height * width) / coverage)\n",
    "    print(f\"You will need {no_cans_paint} cans of paint.\")\n",
    "\n",
    "no_cans_paint_wall(4, 2, 5)"
   ]
  },
  {
   "cell_type": "code",
   "execution_count": 369,
   "id": "316f810d",
   "metadata": {},
   "outputs": [
    {
     "name": "stdout",
     "output_type": "stream",
     "text": [
      "2\n",
      "3\n",
      "4\n",
      "5\n",
      "[2, 3] 2\n",
      "6 is not a prime number.\n"
     ]
    }
   ],
   "source": [
    "#  prime number checker\n",
    "\n",
    "# only divisble by 1 and itself\n",
    "\n",
    "\n",
    "def check_if_prime(number):\n",
    "    ls =[] \n",
    "    for i in range(2,number):\n",
    "        print(i)\n",
    "        if number % i == 0:\n",
    "#             not a prime number\n",
    "            ls.append(i)\n",
    "    print(ls, len(ls))\n",
    "    if len(ls) > 0:\n",
    "        print(f\"{number} is not a prime number.\")\n",
    "    else: \n",
    "        print(f\"{number} is a prime number.\")\n",
    "    \n",
    "check_if_prime(6) \n"
   ]
  },
  {
   "cell_type": "code",
   "execution_count": 370,
   "id": "7c9ad8c5",
   "metadata": {},
   "outputs": [
    {
     "name": "stdout",
     "output_type": "stream",
     "text": [
      "Check this number: 7\n",
      "1\n",
      "2\n",
      "3\n",
      "4\n",
      "5\n",
      "6\n",
      "7\n",
      "[1, 7]\n",
      "7 is a prime number.\n"
     ]
    }
   ],
   "source": [
    "def prime_checker(number):\n",
    "    ls_factors = []\n",
    "    for i in range(1,number + 1):\n",
    "#         includes 1 and itself \n",
    "        print(i)\n",
    "        if number % i == 0:\n",
    "            ls_factors.append(i)\n",
    "    print(ls_factors)\n",
    "    if len(ls_factors) > 2:\n",
    "#         1 & itself so 2 factors \n",
    "#         if more than 2 not a prime \n",
    "        print(f\"{number} is not a prime number.\")\n",
    "    else:\n",
    "        print(f\"{number} is a prime number.\")\n",
    "  \n",
    "\n",
    "n = int(input(\"Check this number: \"))\n",
    "prime_checker(number = n)   "
   ]
  },
  {
   "cell_type": "code",
   "execution_count": 393,
   "id": "fedace3f",
   "metadata": {},
   "outputs": [
    {
     "data": {
      "text/plain": [
       "'y'"
      ]
     },
     "execution_count": 393,
     "metadata": {},
     "output_type": "execute_result"
    }
   ],
   "source": [
    "#  decrypt function \n",
    "def decode_letter(letter, shift_number_pos):\n",
    "    alphabet = [\"a\", \"b\", \"c\", \"d\", \"e\", \"f\", \"g\", \"h\", \"i\", \"j\", \"k\", \"l\", \"m\", \"n\", \"o\", \"p\", \"q\", \"r\", \"s\", \"t\", \"u\", \"v\", \"w\", \"x\", \"y\", \"z\"]\n",
    "    for position in range(len(alphabet)):\n",
    "#         print(position)\n",
    "        if alphabet[position] == letter:\n",
    "            new_pos = position - shift_number_pos \n",
    "#             print(new_pos)\n",
    "            if new_pos < 26:\n",
    "                letter = alphabet[new_pos]\n",
    "            else:\n",
    "                letter = alphabet[new_pos-26]\n",
    "            break\n",
    "    return letter\n",
    "\n",
    "\n",
    "decode_letter(\"a\", 2)"
   ]
  },
  {
   "cell_type": "code",
   "execution_count": 394,
   "id": "ac3e2c2b",
   "metadata": {},
   "outputs": [
    {
     "data": {
      "text/plain": [
       "'bcd'"
      ]
     },
     "execution_count": 394,
     "metadata": {},
     "output_type": "execute_result"
    }
   ],
   "source": [
    "def decode_message(message, shift_number_pos):\n",
    "    decode_message_ls = []\n",
    "    \n",
    "    for each in message:\n",
    "#         print(each)\n",
    "        each = decode_letter(each, shift_number_pos)\n",
    "        decode_message_ls.append(each)\n",
    "#         print(decrypt_message_ls)\n",
    "    decode_message = ''.join(decode_message_ls) \n",
    "    \n",
    "    return decode_message  \n",
    "\n",
    "\n",
    "decode_message(\"def\", 2)    "
   ]
  },
  {
   "cell_type": "code",
   "execution_count": null,
   "id": "6420db7e",
   "metadata": {},
   "outputs": [],
   "source": []
  },
  {
   "cell_type": "code",
   "execution_count": null,
   "id": "d1ba2627",
   "metadata": {},
   "outputs": [],
   "source": []
  }
 ],
 "metadata": {
  "kernelspec": {
   "display_name": "Python 3",
   "language": "python",
   "name": "python3"
  },
  "language_info": {
   "codemirror_mode": {
    "name": "ipython",
    "version": 3
   },
   "file_extension": ".py",
   "mimetype": "text/x-python",
   "name": "python",
   "nbconvert_exporter": "python",
   "pygments_lexer": "ipython3",
   "version": "3.8.8"
  }
 },
 "nbformat": 4,
 "nbformat_minor": 5
}
