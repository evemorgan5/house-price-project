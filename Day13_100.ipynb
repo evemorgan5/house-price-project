{
 "cells": [
  {
   "cell_type": "code",
   "execution_count": 7,
   "id": "f1905bef",
   "metadata": {},
   "outputs": [
    {
     "name": "stdout",
     "output_type": "stream",
     "text": [
      "1\n",
      "2\n",
      "3\n",
      "4\n",
      "5\n",
      "6\n",
      "7\n",
      "8\n",
      "9\n",
      "10\n",
      "11\n",
      "12\n",
      "13\n",
      "14\n",
      "15\n",
      "16\n",
      "17\n",
      "18\n",
      "19\n",
      "You got it\n"
     ]
    }
   ],
   "source": [
    "# debugging ex\n",
    "# describe the problem\n",
    "\n",
    "\n",
    "def my_function():\n",
    "    for i in range(1, 20):\n",
    "        print(i)\n",
    "        if i == 20:\n",
    "            print(\"You got it\")\n",
    "            \n",
    "my_function()\n",
    "\n",
    "# in range(1,20) it starts at 1 & goes uptobut not including 20 (1,2,...,19)\n",
    "# in range function upper bound is omitted\n",
    "# from 1 up until 19 so never reaches 20 \n",
    "\n",
    "def my_function_correct():\n",
    "    for i in range(1,21):\n",
    "        if i == 20:\n",
    "            print(\"You got it\")\n",
    "            \n",
    "my_function_correct()\n"
   ]
  },
  {
   "cell_type": "code",
   "execution_count": 27,
   "id": "3af0a421",
   "metadata": {},
   "outputs": [
    {
     "name": "stdout",
     "output_type": "stream",
     "text": [
      "3\n",
      "4\n"
     ]
    }
   ],
   "source": [
    "# reproducing the bug \n",
    "\n",
    "from random import randint\n",
    "\n",
    "dice_imgs = [\"1\",\"2\",\"3\",\"4\",\"5\",\"6\"]\n",
    "dice_num = randint(0,5)\n",
    "print(dice_num)\n",
    "print(dice_imgs[dice_num])\n",
    "\n",
    "\n",
    "\n",
    "# 0 to 5 are the positions for dice imgs \n",
    "# randint(0,5)\n",
    "# it includes upper and lower limits\n"
   ]
  },
  {
   "cell_type": "code",
   "execution_count": 34,
   "id": "810b7520",
   "metadata": {},
   "outputs": [
    {
     "name": "stdout",
     "output_type": "stream",
     "text": [
      "What's your year of birth?: 1994\n",
      "You are a Gen Z.\n"
     ]
    }
   ],
   "source": [
    "#  play computer \n",
    "\n",
    "# pretending to be a computer, imagining what you are going to do each time\n",
    "# very useful when debugging\n",
    "\n",
    "year = int(input(\"What's your year of birth?: \"))\n",
    "if year > 1980 and year < 1994:\n",
    "    print(\"You are a Millenial.\")\n",
    "elif year >= 1994:\n",
    "    print(\"You are a Gen Z.\")"
   ]
  },
  {
   "cell_type": "code",
   "execution_count": 38,
   "id": "d793ac3a",
   "metadata": {},
   "outputs": [
    {
     "name": "stdout",
     "output_type": "stream",
     "text": [
      "How old are you?: 19\n",
      "You can drive at age 19.\n"
     ]
    }
   ],
   "source": [
    "# fix the errors\n",
    "\n",
    "age = int(input(\"How old are you?: \"))\n",
    "if age > 18:\n",
    "    print(f\"You can drive at age {age}.\")\n",
    "else:\n",
    "    print(f\"{age} is too young to drive.\")\n"
   ]
  },
  {
   "cell_type": "code",
   "execution_count": 41,
   "id": "3dc4754d",
   "metadata": {},
   "outputs": [
    {
     "name": "stdout",
     "output_type": "stream",
     "text": [
      "Number of pages: 4\n",
      "Number of words per page: 100\n",
      "pages = 4\n",
      "word_per_page = 100\n",
      "400\n"
     ]
    }
   ],
   "source": [
    "# squash bugs with print statements\n",
    "\n",
    "pages = 0\n",
    "word_per_page = 0\n",
    "pages = int(input(\"Number of pages: \"))\n",
    "word_per_page = int(input(\"Number of words per page: \"))\n",
    "print(f\"pages = {pages}\")\n",
    "print(f\"word_per_page = {word_per_page}\")\n",
    "total_words = pages * word_per_page\n",
    "\n",
    "print(total_words)"
   ]
  },
  {
   "cell_type": "code",
   "execution_count": 49,
   "id": "d577e9d9",
   "metadata": {},
   "outputs": [
    {
     "name": "stdout",
     "output_type": "stream",
     "text": [
      "[2, 4, 6, 10, 16, 26]\n"
     ]
    }
   ],
   "source": [
    "# big gun : using a debugger\n",
    "\n",
    "def mutate(a_list):\n",
    "    b_list = []\n",
    "    for item in a_list:\n",
    "        new_item = item * 2\n",
    "        b_list.append(new_item)\n",
    "    print(b_list)\n",
    "\n",
    "mutate([1,2,3,5,8,13])\n"
   ]
  },
  {
   "cell_type": "code",
   "execution_count": 50,
   "id": "17530080",
   "metadata": {},
   "outputs": [
    {
     "name": "stdout",
     "output_type": "stream",
     "text": [
      "Which number do you want to check?: 7\n",
      "7 is an odd number.\n"
     ]
    }
   ],
   "source": [
    "#  debugging even odd number checker\n",
    "\n",
    "number = int(input(\"Which number do you want to check?: \"))\n",
    "if number % 2 == 0:\n",
    "    print(f\"{number} is an even number.\")\n",
    "else:\n",
    "    print(f\"{number} is an odd number.\")"
   ]
  },
  {
   "cell_type": "code",
   "execution_count": 53,
   "id": "33880a09",
   "metadata": {},
   "outputs": [
    {
     "name": "stdout",
     "output_type": "stream",
     "text": [
      "Which year do you want to check?: 2100\n",
      "Not a leap year.\n"
     ]
    }
   ],
   "source": [
    "# debugging leap year exercise\n",
    "\n",
    "\n",
    "year = int(input(\"Which year do you want to check?: \"))\n",
    "\n",
    "if year % 4 == 0:\n",
    "    if year % 100 == 0:\n",
    "        if year % 400 == 0:\n",
    "            print(\"Leap year.\")\n",
    "        else:\n",
    "            print(\"Not a leap year.\")\n",
    "    else: \n",
    "        print(\"Leap year.\")\n",
    "else: \n",
    "    print(\"Not a leap year.\")"
   ]
  },
  {
   "cell_type": "code",
   "execution_count": 54,
   "id": "787f08a7",
   "metadata": {},
   "outputs": [
    {
     "name": "stdout",
     "output_type": "stream",
     "text": [
      "1\n",
      "2\n",
      "Fizz\n",
      "4\n",
      "Buzz\n",
      "Fizz\n",
      "7\n",
      "8\n",
      "Fizz\n",
      "Buzz\n",
      "11\n",
      "Fizz\n",
      "13\n",
      "14\n",
      "FizzBuzz\n",
      "16\n",
      "17\n",
      "Fizz\n",
      "19\n",
      "Buzz\n",
      "Fizz\n",
      "22\n",
      "23\n",
      "Fizz\n",
      "Buzz\n",
      "26\n",
      "Fizz\n",
      "28\n",
      "29\n",
      "FizzBuzz\n",
      "31\n",
      "32\n",
      "Fizz\n",
      "34\n",
      "Buzz\n",
      "Fizz\n",
      "37\n",
      "38\n",
      "Fizz\n",
      "Buzz\n",
      "41\n",
      "Fizz\n",
      "43\n",
      "44\n",
      "FizzBuzz\n",
      "46\n",
      "47\n",
      "Fizz\n",
      "49\n",
      "Buzz\n",
      "Fizz\n",
      "52\n",
      "53\n",
      "Fizz\n",
      "Buzz\n",
      "56\n",
      "Fizz\n",
      "58\n",
      "59\n",
      "FizzBuzz\n",
      "61\n",
      "62\n",
      "Fizz\n",
      "64\n",
      "Buzz\n",
      "Fizz\n",
      "67\n",
      "68\n",
      "Fizz\n",
      "Buzz\n",
      "71\n",
      "Fizz\n",
      "73\n",
      "74\n",
      "FizzBuzz\n",
      "76\n",
      "77\n",
      "Fizz\n",
      "79\n",
      "Buzz\n",
      "Fizz\n",
      "82\n",
      "83\n",
      "Fizz\n",
      "Buzz\n",
      "86\n",
      "Fizz\n",
      "88\n",
      "89\n",
      "FizzBuzz\n",
      "91\n",
      "92\n",
      "Fizz\n",
      "94\n",
      "Buzz\n",
      "Fizz\n",
      "97\n",
      "98\n",
      "Fizz\n",
      "Buzz\n"
     ]
    }
   ],
   "source": [
    "# buzzfizzz\n",
    "\n",
    "for number in range(1, 101):\n",
    "    if number % 3 == 0 and number % 5 == 0:\n",
    "        print(\"FizzBuzz\")\n",
    "    elif number % 3 == 0:\n",
    "        print(\"Fizz\")\n",
    "    elif number % 5 == 0:\n",
    "        print(\"Buzz\")\n",
    "    else:\n",
    "        print(number)"
   ]
  },
  {
   "cell_type": "code",
   "execution_count": null,
   "id": "1f80c7ab",
   "metadata": {},
   "outputs": [],
   "source": []
  }
 ],
 "metadata": {
  "kernelspec": {
   "display_name": "Python 3",
   "language": "python",
   "name": "python3"
  },
  "language_info": {
   "codemirror_mode": {
    "name": "ipython",
    "version": 3
   },
   "file_extension": ".py",
   "mimetype": "text/x-python",
   "name": "python",
   "nbconvert_exporter": "python",
   "pygments_lexer": "ipython3",
   "version": "3.8.8"
  }
 },
 "nbformat": 4,
 "nbformat_minor": 5
}
