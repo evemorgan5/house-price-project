{
 "cells": [
  {
   "cell_type": "code",
   "execution_count": 28,
   "id": "0ca7807b",
   "metadata": {},
   "outputs": [
    {
     "name": "stdout",
     "output_type": "stream",
     "text": [
      "Type 'encode' to encrypt, type 'decode' to decrypt: encode\n",
      "Type your message: hi there eve!\n",
      "Type the shift number: 3\n",
      "Here's the encoded result: kl wkhuh hyh!\n",
      "Type 'yes' if you want to go again. Otherwise type'no'.\n",
      "no\n",
      "Goodbye\n"
     ]
    }
   ],
   "source": [
    "# build a cipher program \n",
    "# caesar cipher\n",
    "# each letter shifted by a predetermined amount\n",
    "\n",
    "alphabet = [\"a\", \"b\", \"c\", \"d\", \"e\", \"f\", \"g\", \"h\", \"i\", \"j\", \"k\", \"l\", \"m\", \"n\", \"o\", \"p\", \"q\", \"r\", \"s\", \"t\", \"u\",\"v\", \"w\", \"x\", \"y\", \"z\"]\n",
    "\n",
    "\n",
    "\n",
    "    \n",
    "\n",
    "def caesar(start_text, shift_amount, cipher_direction):\n",
    "        end_text = \"\"\n",
    "        if cipher_direction == \"decode\":\n",
    "                shift_amount *= -1\n",
    "        for char in start_text:\n",
    "                if char in alphabet: \n",
    "                    position = alphabet.index(char)  \n",
    "                    new_position = position + shift_amount\n",
    "                    end_text += alphabet[new_position]\n",
    "                else:\n",
    "                    end_text += char\n",
    "        print(f\"Here's the {cipher_direction}d result: {end_text}\")\n",
    "\n",
    "\n",
    "        \n",
    "should_continue = True \n",
    "while should_continue:\n",
    "    cipher_direction = input(\"Type 'encode' to encrypt, type 'decode' to decrypt: \")\n",
    "    start_text = input(\"Type your message: \").lower()\n",
    "    shift_amount = int(input(\"Type the shift number: \"))\n",
    "\n",
    "    shift_amount = shift_amount % 26\n",
    "    caesar(start_text, shift_amount, cipher_direction)\n",
    "\n",
    "    result = input(\"Type 'yes' if you want to go again. Otherwise type'no'.\\n\") \n",
    "    if result == \"no\":\n",
    "        should_continue = False\n",
    "        print(\"Goodbye\")\n",
    "                   \n",
    "\n",
    "    "
   ]
  },
  {
   "cell_type": "code",
   "execution_count": null,
   "id": "48307b07",
   "metadata": {},
   "outputs": [],
   "source": []
  },
  {
   "cell_type": "code",
   "execution_count": null,
   "id": "accc42b1",
   "metadata": {},
   "outputs": [],
   "source": []
  }
 ],
 "metadata": {
  "kernelspec": {
   "display_name": "Python 3",
   "language": "python",
   "name": "python3"
  }
 },
 "nbformat": 4,
 "nbformat_minor": 5
}
