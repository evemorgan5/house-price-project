{
 "cells": [
  {
   "cell_type": "raw",
   "id": "34967d83",
   "metadata": {},
   "source": []
  },
  {
   "cell_type": "code",
   "execution_count": 174,
   "id": "8909d86a",
   "metadata": {},
   "outputs": [
    {
     "name": "stdout",
     "output_type": "stream",
     "text": [
      "Welcome to the tip calculator!\n",
      "What was the total bill? $124.56\n",
      "<class 'str'>\n"
     ]
    }
   ],
   "source": [
    "print(\"Welcome to the tip calculator!\")\n",
    "total_bill = input(\"What was the total bill? $\")\n",
    "\n",
    "print(type(total_bill))\n",
    "# input is a str of characters "
   ]
  },
  {
   "cell_type": "code",
   "execution_count": 159,
   "id": "5c34c7c7",
   "metadata": {},
   "outputs": [
    {
     "name": "stdout",
     "output_type": "stream",
     "text": [
      "How many people to split the bill? 6\n"
     ]
    }
   ],
   "source": [
    "people_bill = input(\"How many people to split the bill? \")"
   ]
  },
  {
   "cell_type": "code",
   "execution_count": 160,
   "id": "a6f92b4a",
   "metadata": {},
   "outputs": [
    {
     "name": "stdout",
     "output_type": "stream",
     "text": [
      "What percentage tip would you like to give? 10, 12 or 15? 12\n"
     ]
    }
   ],
   "source": [
    "pc_tip = input(\"What percentage tip would you like to give? 10, 12 or 15? \")"
   ]
  },
  {
   "cell_type": "code",
   "execution_count": 175,
   "id": "0480d6cd",
   "metadata": {},
   "outputs": [
    {
     "name": "stdout",
     "output_type": "stream",
     "text": [
      "Each person should pay: $23.25\n"
     ]
    }
   ],
   "source": [
    "price_pp = (float(total_bill) * (1 + int(pc_tip) / 100 )) / int(people_bill)\n",
    "# take care of data types, need to be numbers to perform math\n",
    "# float because it contains a decimal\n",
    "# need to convert price_pp to str\n",
    "\n",
    "\n",
    "round_price_pp = round(price_pp, 2)\n",
    "\n",
    "print(\"Each person should pay: $\" + str(round_price_pp))\n",
    "# print(f\"Each person should pay: ${round_price_pp}\")"
   ]
  },
  {
   "cell_type": "code",
   "execution_count": 165,
   "id": "67bd10ce",
   "metadata": {},
   "outputs": [
    {
     "name": "stdout",
     "output_type": "stream",
     "text": [
      "What is your name? eve\n",
      "num_char <class 'int'>\n",
      "new_num_char <class 'str'>\n",
      "Your name has 3 characters.\n"
     ]
    }
   ],
   "source": [
    "num_char = len(input(\"What is your name? \"))\n",
    "\n",
    "# check to see data type \n",
    "# print(type(name_))\n",
    "# eg below\n",
    "print(\"num_char\", type(num_char))\n",
    "\n",
    "# int data type needs to be changed to a str data type \n",
    "\n",
    "new_num_char = str(num_char)\n",
    "\n",
    "print(\"new_num_char\", type(new_num_char))\n",
    "\n",
    "print(\"Your name has \" + new_num_char + \" characters.\")"
   ]
  },
  {
   "cell_type": "code",
   "execution_count": 166,
   "id": "d82ec1af",
   "metadata": {},
   "outputs": [
    {
     "name": "stdout",
     "output_type": "stream",
     "text": [
      "['3', '5']\n",
      "8\n"
     ]
    }
   ],
   "source": [
    "num = 35\n",
    "\n",
    "str_num = str(num)\n",
    "\n",
    "list_nums = []\n",
    "for i in range(len(str_num)):\n",
    "    list_nums.append(str_num[i])\n",
    "print(list_nums)\n",
    "\n",
    "total = 0\n",
    "for i in list_nums:\n",
    "    total += int(i)\n",
    "print(total)"
   ]
  },
  {
   "cell_type": "code",
   "execution_count": 167,
   "id": "8f0dfa30",
   "metadata": {},
   "outputs": [
    {
     "data": {
      "text/plain": [
       "8"
      ]
     },
     "execution_count": 167,
     "metadata": {},
     "output_type": "execute_result"
    }
   ],
   "source": [
    "def sum_of_int(num):\n",
    "    ls_num = list(str(num))\n",
    "    \n",
    "    total = 0\n",
    "    for i in ls_num:\n",
    "        total += int(i)\n",
    "    return total\n",
    "\n",
    "sum_of_int(35)"
   ]
  },
  {
   "cell_type": "code",
   "execution_count": 168,
   "id": "20b7a5f9",
   "metadata": {},
   "outputs": [
    {
     "data": {
      "text/plain": [
       "8"
      ]
     },
     "execution_count": 168,
     "metadata": {},
     "output_type": "execute_result"
    }
   ],
   "source": [
    "num = 35\n",
    "# int\n",
    "\n",
    "str_num = str(num)\n",
    "# str of num\n",
    "\n",
    "first_digit = int(str_num[0])\n",
    "second_digit = int(str_num[1])\n",
    "\n",
    "total = first_digit + second_digit\n",
    "total"
   ]
  },
  {
   "cell_type": "code",
   "execution_count": 169,
   "id": "ff0eb49b",
   "metadata": {},
   "outputs": [
    {
     "name": "stdout",
     "output_type": "stream",
     "text": [
      "Enter your weight in kilograms: 55\n",
      "Enter your height in meters: 1.54\n"
     ]
    },
    {
     "data": {
      "text/plain": [
       "23"
      ]
     },
     "execution_count": 169,
     "metadata": {},
     "output_type": "execute_result"
    }
   ],
   "source": [
    "def bmi_calculator(weight,height):\n",
    "    bmi = float(weight) / float(height) ** 2\n",
    "    return bmi\n",
    "\n",
    "\n",
    "weight = input(\"Enter your weight in kilograms: \")\n",
    "height = input(\"Enter your height in meters: \")\n",
    "\n",
    "\n",
    "\n",
    "# round it to integer ie.whole number \n",
    "int(bmi_calculator(weight,height))"
   ]
  },
  {
   "cell_type": "code",
   "execution_count": 170,
   "id": "a1bdd8c0",
   "metadata": {},
   "outputs": [
    {
     "name": "stdout",
     "output_type": "stream",
     "text": [
      "your score is 0, your height is 1.8, you are winning is True\n"
     ]
    }
   ],
   "source": [
    "score = 0 \n",
    "height = 1.8\n",
    "isWinning = True \n",
    "\n",
    "#  f-string \n",
    "print (f\"your score is {score}, your height is {height}, you are winning is {isWinning }\")"
   ]
  },
  {
   "cell_type": "code",
   "execution_count": 171,
   "id": "36280e2d",
   "metadata": {},
   "outputs": [
    {
     "name": "stdout",
     "output_type": "stream",
     "text": [
      "Enter your age: 29\n",
      "You have 22265 days, 3172 weeks, 732 months and 61 years left.\n",
      "22265 3172 732 61\n"
     ]
    }
   ],
   "source": [
    "# create a program to tell us how many days, weeks and months we have left if we were to live until 90 years old\n",
    "age = input(\"Enter your age: \")\n",
    "\n",
    "# ints\n",
    "years_left = 90 - int(age)\n",
    "months_left = 12 * years_left\n",
    "weeks_left = 52 * years_left\n",
    "days_left = 365 * years_left\n",
    "\n",
    "# converted int dates to str\n",
    "\n",
    "print(\"You have \" + str(days_left) + \" days, \" +  str(weeks_left) + \" weeks, \"  + str(months_left) + \" months and \" + str(years_left) + \" years left.\")\n",
    "print(days_left, weeks_left, months_left, years_left)\n"
   ]
  },
  {
   "cell_type": "code",
   "execution_count": 172,
   "id": "cf6f5b93",
   "metadata": {},
   "outputs": [
    {
     "name": "stdout",
     "output_type": "stream",
     "text": [
      "Enter today's date (DD/MM/YYYY): 18082021\n",
      "Enter your birthday (DD/MM/YYYY): 27051992\n",
      "29\n"
     ]
    }
   ],
   "source": [
    "current_date = input(\"Enter today's date (DD/MM/YYYY): \")\n",
    "birthday = input(\"Enter your birthday (DD/MM/YYYY): \")\n",
    "\n",
    "# print(type(birthday))\n",
    "\n",
    "birth_year = int(birthday[4:8])\n",
    "birth_month = int(birthday[2:4])\n",
    "birth_date = int(birthday[0:2])\n",
    "\n",
    "calc_age = int(current_date[4:8]) - birth_year\n",
    "print(calc_age) \n",
    "\n",
    "\n",
    "days_in_year = 365 \n",
    "weeks_in_year = 52\n",
    "months_in_year = 12\n",
    "\n"
   ]
  },
  {
   "cell_type": "markdown",
   "id": "cce0b08a",
   "metadata": {},
   "source": [
    "### birth_month"
   ]
  },
  {
   "cell_type": "code",
   "execution_count": 173,
   "id": "192ae90c",
   "metadata": {},
   "outputs": [
    {
     "data": {
      "text/plain": [
       "360000.0"
      ]
     },
     "execution_count": 173,
     "metadata": {},
     "output_type": "execute_result"
    }
   ],
   "source": [
    "amount = 150000000 * 0.003 * 0.8\n",
    "amount"
   ]
  },
  {
   "cell_type": "code",
   "execution_count": null,
   "id": "dcd727fe",
   "metadata": {},
   "outputs": [],
   "source": []
  }
 ],
 "metadata": {
  "kernelspec": {
   "display_name": "Python 3",
   "language": "python",
   "name": "python3"
  },
  "language_info": {
   "codemirror_mode": {
    "name": "ipython",
    "version": 3
   },
   "file_extension": ".py",
   "mimetype": "text/x-python",
   "name": "python",
   "nbconvert_exporter": "python",
   "pygments_lexer": "ipython3",
   "version": "3.8.8"
  }
 },
 "nbformat": 4,
 "nbformat_minor": 5
}
