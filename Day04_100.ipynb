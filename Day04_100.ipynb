{
 "cells": [
  {
   "cell_type": "code",
   "execution_count": 1,
   "id": "65a7bf4f",
   "metadata": {},
   "outputs": [],
   "source": [
    "import random"
   ]
  },
  {
   "cell_type": "code",
   "execution_count": 5,
   "id": "8928a749",
   "metadata": {},
   "outputs": [
    {
     "data": {
      "text/plain": [
       "88"
      ]
     },
     "execution_count": 5,
     "metadata": {},
     "output_type": "execute_result"
    }
   ],
   "source": [
    "#  generate random number between 1 & 100\n",
    "random_integer = random.randint(1,100)\n",
    "\n",
    "random_integer"
   ]
  },
  {
   "cell_type": "code",
   "execution_count": 6,
   "id": "d95e5c8c",
   "metadata": {},
   "outputs": [
    {
     "name": "stdout",
     "output_type": "stream",
     "text": [
      "3.14159246\n"
     ]
    }
   ],
   "source": [
    "import my_module\n",
    "print(my_module.pi)"
   ]
  },
  {
   "cell_type": "code",
   "execution_count": 10,
   "id": "eadb279e",
   "metadata": {},
   "outputs": [
    {
     "data": {
      "text/plain": [
       "2.229427997577133"
      ]
     },
     "execution_count": 10,
     "metadata": {},
     "output_type": "execute_result"
    }
   ],
   "source": [
    "# random float is between 0 & 1\n",
    "random_float = random.random()\n",
    "\n",
    "\n",
    "# extend it to between 0 & 4.999999..... all the way upto 5 but not including 5 \n",
    "random_float * 5"
   ]
  },
  {
   "cell_type": "code",
   "execution_count": 13,
   "id": "89d91d72",
   "metadata": {},
   "outputs": [
    {
     "name": "stdout",
     "output_type": "stream",
     "text": [
      "Your love score is 18\n"
     ]
    }
   ],
   "source": [
    "love_score = random.randint(1,100)\n",
    "print(f\"Your love score is {love_score}\")"
   ]
  },
  {
   "cell_type": "code",
   "execution_count": 31,
   "id": "e29534fd",
   "metadata": {},
   "outputs": [
    {
     "name": "stdout",
     "output_type": "stream",
     "text": [
      "Heads\n"
     ]
    }
   ],
   "source": [
    "# Create a virtual coin tossing program\n",
    "import random\n",
    "\n",
    "coin_outcome = random.randint(0,1)\n",
    "\n",
    "if coin_outcome == 0:\n",
    "    print(\"Heads\")\n",
    "else:\n",
    "    print(\"Tails\")"
   ]
  },
  {
   "cell_type": "code",
   "execution_count": 35,
   "id": "bc4c8417",
   "metadata": {},
   "outputs": [],
   "source": [
    "# data structure - list \n",
    "# lists are useful for grouped pieces of data \n",
    "\n",
    "usa_states = [\"delaware\", \"pennsylvania\", \"newjersey\", \"newyork\", \"maine\", \"california\", \"nevada\", \"newmexico\", \"arizona\"]"
   ]
  },
  {
   "cell_type": "code",
   "execution_count": 36,
   "id": "e8c718f0",
   "metadata": {},
   "outputs": [
    {
     "name": "stdout",
     "output_type": "stream",
     "text": [
      "delaware\n"
     ]
    }
   ],
   "source": [
    "print(usa_states[0])"
   ]
  },
  {
   "cell_type": "code",
   "execution_count": 38,
   "id": "f4edee1c",
   "metadata": {},
   "outputs": [
    {
     "name": "stdout",
     "output_type": "stream",
     "text": [
      "pennsylvania\n"
     ]
    }
   ],
   "source": [
    "second_state = usa_states[1]\n",
    "print(second_state)"
   ]
  },
  {
   "cell_type": "code",
   "execution_count": 39,
   "id": "822c62c5",
   "metadata": {},
   "outputs": [
    {
     "name": "stdout",
     "output_type": "stream",
     "text": [
      "Give me everybody's names, separated by a comma. Angela, Ben, Jenny\n"
     ]
    }
   ],
   "source": [
    "# credit card roulette \n",
    "\n",
    "names_string = input(\"Give me everybody's names, separated by a comma. \")"
   ]
  },
  {
   "cell_type": "code",
   "execution_count": 45,
   "id": "feedfbda",
   "metadata": {},
   "outputs": [
    {
     "data": {
      "text/plain": [
       "['Angela', ' Ben', ' Jenny']"
      ]
     },
     "execution_count": 45,
     "metadata": {},
     "output_type": "execute_result"
    }
   ],
   "source": [
    "names = names_string.split(\",\")\n",
    "names"
   ]
  },
  {
   "cell_type": "code",
   "execution_count": 48,
   "id": "160b6342",
   "metadata": {},
   "outputs": [
    {
     "name": "stdout",
     "output_type": "stream",
     "text": [
      " Jenny\n"
     ]
    }
   ],
   "source": [
    "import random\n",
    "\n",
    "pays = random.randint(0,2)\n",
    "if pays == 0:\n",
    "    print(names[0])\n",
    "elif pays == 1:\n",
    "    print(names[1])\n",
    "else:\n",
    "    print(names[2])\n",
    "    "
   ]
  },
  {
   "cell_type": "code",
   "execution_count": 55,
   "id": "cb477179",
   "metadata": {},
   "outputs": [
    {
     "name": "stdout",
     "output_type": "stream",
     "text": [
      " Ben is going to pay for the meal today.\n"
     ]
    },
    {
     "data": {
      "text/plain": [
       "3"
      ]
     },
     "execution_count": 55,
     "metadata": {},
     "output_type": "execute_result"
    }
   ],
   "source": [
    "import random\n",
    "\n",
    "random_choice = random.randint(0,len(names)-1)\n",
    "pays = names[random_choice]\n",
    "print(f\"{pays} is going to buy the meal today.\")\n",
    "\n",
    "len(names)"
   ]
  },
  {
   "cell_type": "code",
   "execution_count": 58,
   "id": "24dd0d71",
   "metadata": {},
   "outputs": [
    {
     "name": "stdout",
     "output_type": "stream",
     "text": [
      "[['Strawberries', 'Nectarines', 'Apples', 'Grapes'], ['Spinach', 'Kale', 'Tomatoes', 'Celery', 'Potatoes']]\n"
     ]
    }
   ],
   "source": [
    "fruits = [\"Strawberries\", \"Nectarines\", \"Apples\", \"Grapes\"]\n",
    "vegetables = [\"Spinach\", \"Kale\", \"Tomatoes\", \"Celery\", \"Potatoes\"]\n",
    "dirty_dozen = [fruits, vegetables]\n",
    "\n",
    "print(dirty_dozen)"
   ]
  },
  {
   "cell_type": "code",
   "execution_count": 75,
   "id": "5da60c5e",
   "metadata": {},
   "outputs": [
    {
     "name": "stdout",
     "output_type": "stream",
     "text": [
      "[' ', ' ', ' ']\n",
      "[' ', ' ', ' ']\n",
      "[' ', ' ', ' ']\n",
      "Where do you want to put the treasure? 23\n"
     ]
    }
   ],
   "source": [
    "# treasure map\n",
    "\n",
    "row1 = [\" \",\" \",\" \"]\n",
    "row2 = [\" \",\" \",\" \"]\n",
    "row3 = [\" \",\" \",\" \"]\n",
    "map = [row1, row2, row3]\n",
    "print(f\"{row1}\\n{row2}\\n{row3}\")\n",
    "position = input(\"Where do you want to put the treasure? \")"
   ]
  },
  {
   "cell_type": "code",
   "execution_count": 76,
   "id": "cd4ecbce",
   "metadata": {},
   "outputs": [
    {
     "name": "stdout",
     "output_type": "stream",
     "text": [
      "1\n",
      "2\n",
      "[' ', ' ', ' ']\n",
      "[' ', ' ', ' ']\n",
      "[' ', 'X', ' ']\n"
     ]
    }
   ],
   "source": [
    "horizontal = int(position[0])-1\n",
    "print(horizontal)\n",
    "vertical = int(position[1])-1\n",
    "print(vertical)\n",
    "\n",
    "map[vertical][horizontal] = \"X\"\n",
    "print(f\"{row1}\\n{row2}\\n{row3}\")"
   ]
  },
  {
   "cell_type": "raw",
   "id": "5abc8370",
   "metadata": {},
   "source": [
    " rock paper scissors game\n",
    " "
   ]
  },
  {
   "cell_type": "code",
   "execution_count": 86,
   "id": "df3cdeab",
   "metadata": {},
   "outputs": [
    {
     "name": "stdout",
     "output_type": "stream",
     "text": [
      "What do you choose? Type 0 for Rock, 1 for Paper or 2 for Scissors.\n",
      "0\n",
      "Computer chose: 1 for Paper\n",
      "Computer wins.\n"
     ]
    }
   ],
   "source": [
    "import random\n",
    "\n",
    "outcome = [\"Rock\", \"Paper\", \"Scissors\"]\n",
    "\n",
    "# game_images = [rock, paper, scissors]\n",
    "\n",
    "# rock = '''\n",
    "\n",
    "# paper = \"\"\"\n",
    "\n",
    "# scissors = '_'\n",
    "\n",
    "\n",
    "computer_choice = random.randint(0,len(outcome)-1)\n",
    "\n",
    "computer_outcome = outcome[computer_choice]\n",
    "           \n",
    "your_choice = int(input(\"What do you choose? Type 0 for Rock, 1 for Paper or 2 for Scissors.\\n\"))\n",
    "# print(game_images[your_choice])\n",
    "\n",
    "\n",
    "print(f\"Computer chose: {computer_choice} for {computer_outcome}\")\n",
    "# print(game_images[computer_choice])\n",
    "\n",
    "\n",
    "if your_choice == computer_choice:\n",
    "    print(\"You draw.\")\n",
    "elif your_choice == 0:\n",
    "    if computer_choice == 1:\n",
    "        print(\"Computer wins.\")\n",
    "    elif computer_choice == 2:\n",
    "        print(\"You win.\")\n",
    "elif your_choice == 1:\n",
    "    if computer_choice == 2:\n",
    "        print(\"Computer wins.\")\n",
    "    elif computer_choice == 0:\n",
    "        print(\"You win.\")\n",
    "elif your_choice == 2:\n",
    "    if computer_choice == 0:\n",
    "        print(\"Computer wins.\")\n",
    "    elif computer_choice == 1:\n",
    "        print(\"You win.\")\n",
    "\n",
    "       "
   ]
  },
  {
   "cell_type": "code",
   "execution_count": null,
   "id": "2feb094a",
   "metadata": {},
   "outputs": [],
   "source": []
  }
 ],
 "metadata": {
  "kernelspec": {
   "display_name": "Python 3",
   "language": "python",
   "name": "python3"
  },
  "language_info": {
   "codemirror_mode": {
    "name": "ipython",
    "version": 3
   },
   "file_extension": ".py",
   "mimetype": "text/x-python",
   "name": "python",
   "nbconvert_exporter": "python",
   "pygments_lexer": "ipython3",
   "version": "3.8.8"
  }
 },
 "nbformat": 4,
 "nbformat_minor": 5
}
