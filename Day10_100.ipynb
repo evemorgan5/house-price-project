{
 "cells": [
  {
   "cell_type": "code",
   "execution_count": 15,
   "id": "cee89ba1",
   "metadata": {},
   "outputs": [
    {
     "name": "stdout",
     "output_type": "stream",
     "text": [
      "What's the first number?: 5\n",
      "+\n",
      "-\n",
      "*\n",
      "/\n",
      "Pick an operation: /\n",
      "What's the next number?: 2.3\n"
     ]
    },
    {
     "data": {
      "text/plain": [
       "2.173913043478261"
      ]
     },
     "execution_count": 15,
     "metadata": {},
     "output_type": "execute_result"
    }
   ],
   "source": [
    "# create a calculator app\n",
    "\n",
    "def calculator(num1, num2, operator):\n",
    "    \n",
    "    number1 = float(input(\"What's the first number?: \"))\n",
    "    operator = input(\"+\\n-\\n*\\n/\\nPick an operation: \")\n",
    "    number2 = float(input(\"What's the next number?: \"))\n",
    "    if operator == \"+\":\n",
    "        result = number1 + number2\n",
    "    elif operator == \"-\":\n",
    "        result = number1 - number2\n",
    "    elif operator == \"*\":\n",
    "        result = number1 * number2\n",
    "    elif operator == \"/\":\n",
    "        result = number1 / number2\n",
    "\n",
    "    return result  \n",
    "\n",
    "calculator(number1, number2, operator)"
   ]
  },
  {
   "cell_type": "code",
   "execution_count": 16,
   "id": "b55bc02a",
   "metadata": {},
   "outputs": [
    {
     "name": "stdout",
     "output_type": "stream",
     "text": [
      "Angela\n",
      "Angela\n"
     ]
    }
   ],
   "source": [
    "# functions with Outputs\n",
    "def format_name(f_name,l_name):\n",
    "    print(f_name.title()) \n",
    "    print(l_name.title())\n",
    "\n",
    "format_name(\"angela\", \"ANGELA\")"
   ]
  },
  {
   "cell_type": "code",
   "execution_count": 26,
   "id": "16569c41",
   "metadata": {},
   "outputs": [
    {
     "name": "stdout",
     "output_type": "stream",
     "text": [
      "What's your first name?: eve\n",
      "What's your last name?: \n",
      "You didn't provide valid inputs.\n"
     ]
    }
   ],
   "source": [
    "# functions with Outputs\n",
    "def format_name(f_name,l_name):\n",
    "    if f_name == \"\" or l_name == \"\":\n",
    "        return \"You didn't provide valid inputs.\"\n",
    "\n",
    "    formated_f_name = f_name.title() \n",
    "    formated_l_name = l_name.title()\n",
    "    \n",
    "    return f\"Result: {formated_f_name} {formated_l_name}\"\n",
    "\n",
    "f_name = input(\"What's your first name?: \")\n",
    "l_name = input(\"What's your last name?: \")\n",
    "\n",
    "print(format_name(f_name, l_name))"
   ]
  },
  {
   "cell_type": "code",
   "execution_count": 61,
   "id": "7d3d7846",
   "metadata": {},
   "outputs": [
    {
     "name": "stdout",
     "output_type": "stream",
     "text": [
      "Enter a year: 2021\n",
      "Enter a month: 2\n",
      "28\n"
     ]
    }
   ],
   "source": [
    "def is_leap(year):\n",
    "    if year % 4 == 0:\n",
    "        if year % 100 == 0:\n",
    "            if year % 400 == 0:\n",
    "                return True\n",
    "#             returns True for leap year\n",
    "#                 print(f\"{year} is a leap year.\")\n",
    "            else:\n",
    "                return False\n",
    "                print(f\"{year} is not a leap year.\")\n",
    "        else:\n",
    "            return True\n",
    "            print(f\"{year} is a leap year.\")\n",
    "    else:\n",
    "        return False\n",
    "        print(f\"{year} is not a leap year.\")         \n",
    "        \n",
    "  \n",
    "        \n",
    "def days_in_month(year, month):\n",
    "    month_days = [31, 28, 31, 30, 31, 30, 31, 31, 30, 31, 30, 31]\n",
    "    if is_leap(year) == True and month == 2:\n",
    "        days = 29\n",
    "    else:\n",
    "        days = month_days[month - 1]\n",
    "    return days\n",
    "\n",
    "\n",
    "year = int(input(\"Enter a year: \")) \n",
    "month = int(input(\"Enter a month: \"))\n",
    "print(days_in_month(year, month))"
   ]
  },
  {
   "cell_type": "code",
   "execution_count": 63,
   "id": "9af1a93f",
   "metadata": {},
   "outputs": [
    {
     "name": "stdout",
     "output_type": "stream",
     "text": [
      "15\n"
     ]
    }
   ],
   "source": [
    "def outer_function(a, b):\n",
    "    def inner_function(c, d):\n",
    "        return c + d\n",
    "    return inner_function(a, b)\n",
    " \n",
    "result = outer_function(5, 10)\n",
    "print(result)\n"
   ]
  },
  {
   "cell_type": "code",
   "execution_count": 86,
   "id": "a250dec2",
   "metadata": {},
   "outputs": [
    {
     "name": "stdout",
     "output_type": "stream",
     "text": [
      "What's the first number?: 5\n",
      "+\n",
      "-\n",
      "*\n",
      "/\n",
      "Pick an operation: *\n",
      "What's the next number?: 3\n",
      "Result: 15.0\n",
      "Type 'y' if you would you like to go again, or else type 'n' to quit. n\n",
      "Goodbye\n"
     ]
    }
   ],
   "source": [
    "def add(a,b):\n",
    "    return a + b \n",
    "\n",
    "def subtract(a,b):\n",
    "    return a - b \n",
    "\n",
    "def multiply(a,b):\n",
    "    return a * b \n",
    "\n",
    "def divide(a,b):\n",
    "    return a / b\n",
    "\n",
    "\n",
    "def calculator(): \n",
    "    num1 = float(input(\"What's the first number?: \"))\n",
    "    operator = input(\"+\\n-\\n*\\n/\\nPick an operation: \")\n",
    "    num2 = float(input(\"What's the next number?: \")) \n",
    "    operations = {\"+\": add, \"-\": subtract, \"*\": multiply, \"/\": divide}\n",
    "    calc_function = operations[operator]\n",
    "    return calc_function(num1, num2)\n",
    "   \n",
    "    \n",
    "continue_calc = True\n",
    "while continue_calc:\n",
    "    print(f\"Result: {calculator()}\")\n",
    "    should_continue = input(\"Type 'y' if you would you like to go again, or else type 'n' to exit. \")\n",
    "    if should_continue == \"y\":\n",
    "        continue_calc = True\n",
    "    else:\n",
    "        continue_calc = False\n",
    "        print(\"Goodbye\")"
   ]
  },
  {
   "cell_type": "code",
   "execution_count": 97,
   "id": "ea9827b0",
   "metadata": {},
   "outputs": [
    {
     "name": "stdout",
     "output_type": "stream",
     "text": [
      "What's the first number?: 6\n",
      "+\n",
      "-\n",
      "*\n",
      "/\n",
      "Pick an operation: +\n",
      "What's the next number?: 4\n",
      "6.0 + 4.0 = 10.0\n",
      "Type 'y' if you would you like to continue, or type 'n' to start a new calculation: n\n",
      "What's the first number?: 5\n",
      "+\n",
      "-\n",
      "*\n",
      "/\n",
      "Pick an operation: -\n",
      "What's the next number?: 2\n",
      "5.0 - 2.0 = 3.0\n",
      "Type 'y' if you would you like to continue, or type 'n' to start a new calculation: y\n",
      "+\n",
      "-\n",
      "*\n",
      "/\n",
      "Pick an operation: *\n",
      "What's the next number?: 2\n",
      "3.0 * 2.0 = 6.0\n",
      "Type 'y' if you would you like to continue, or type 'n' to start a new calculation: q\n",
      "Goodbye\n"
     ]
    }
   ],
   "source": [
    "#  recursion \n",
    "# function calls itself \n",
    "\n",
    "operations = {\n",
    "    \"+\": add, \n",
    "    \"-\": subtract, \n",
    "    \"*\": multiply, \n",
    "    \"/\": divide\n",
    "}\n",
    "\n",
    "def add(a,b):\n",
    "    return a + b \n",
    "\n",
    "def subtract(a,b):\n",
    "    return a - b \n",
    "\n",
    "def multiply(a,b):\n",
    "    return a * b \n",
    "\n",
    "def divide(a,b):\n",
    "    return a / b\n",
    "\n",
    "\n",
    "def calculator():\n",
    "    num1 = float(input(\"What's the first number?: \"))\n",
    "    continue_calc = True\n",
    "    \n",
    "    while continue_calc:\n",
    "        operator = input(\"+\\n-\\n*\\n/\\nPick an operation: \")\n",
    "        num2 = float(input(\"What's the next number?: \")) \n",
    "        calc_function = operations[operator]\n",
    "        answer = calc_function(num1, num2)\n",
    "       \n",
    "        print(f\"{num1} {operator} {num2} = {answer}\")\n",
    "       \n",
    "        should_continue = input(\"Type 'y' if you would you like to continue, or type 'n' to start a new calculation: \")\n",
    "        if should_continue == \"y\":\n",
    "            continue_calc = True\n",
    "            num1 = answer\n",
    "        elif should_continue == \"n\":\n",
    "            continue_calc = False\n",
    "            calculator()\n",
    "        else:\n",
    "            continue_calc = False\n",
    "            print(\"Goodbye\")\n",
    "            \n",
    "            \n",
    "            \n",
    "calculator()"
   ]
  },
  {
   "cell_type": "code",
   "execution_count": null,
   "id": "8509b533",
   "metadata": {},
   "outputs": [],
   "source": []
  },
  {
   "cell_type": "code",
   "execution_count": null,
   "id": "1ba8f0b8",
   "metadata": {},
   "outputs": [],
   "source": []
  }
 ],
 "metadata": {
  "kernelspec": {
   "display_name": "Python 3",
   "language": "python",
   "name": "python3"
  },
  "language_info": {
   "codemirror_mode": {
    "name": "ipython",
    "version": 3
   },
   "file_extension": ".py",
   "mimetype": "text/x-python",
   "name": "python",
   "nbconvert_exporter": "python",
   "pygments_lexer": "ipython3",
   "version": "3.8.8"
  }
 },
 "nbformat": 4,
 "nbformat_minor": 5
}
