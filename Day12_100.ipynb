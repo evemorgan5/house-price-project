{
 "cells": [
  {
   "cell_type": "code",
   "execution_count": 33,
   "id": "ba672f8e",
   "metadata": {},
   "outputs": [
    {
     "name": "stdout",
     "output_type": "stream",
     "text": [
      "enemies inside function: 2\n",
      "enemies outside function: 1\n"
     ]
    }
   ],
   "source": [
    "# local vs global scope\n",
    "\n",
    "\n",
    "enemies = 1\n",
    "\n",
    "def increase_enemies():\n",
    "    enemies = 2\n",
    "    print(f\"enemies inside function: {enemies}\")\n",
    "    \n",
    "increase_enemies()\n",
    "print(f\"enemies outside function: {enemies}\")\n",
    "    \n",
    "       "
   ]
  },
  {
   "cell_type": "code",
   "execution_count": 20,
   "id": "23acf856",
   "metadata": {},
   "outputs": [
    {
     "name": "stdout",
     "output_type": "stream",
     "text": [
      "10\n",
      "2\n",
      "10\n"
     ]
    },
    {
     "ename": "NameError",
     "evalue": "name 'potion_strength' is not defined",
     "output_type": "error",
     "traceback": [
      "\u001b[0;31m---------------------------------------------------------------------------\u001b[0m",
      "\u001b[0;31mNameError\u001b[0m                                 Traceback (most recent call last)",
      "\u001b[0;32m<ipython-input-20-f87a8ef45b9d>\u001b[0m in \u001b[0;36m<module>\u001b[0;34m\u001b[0m\n\u001b[1;32m     15\u001b[0m \u001b[0mdrink_potion\u001b[0m\u001b[0;34m(\u001b[0m\u001b[0;34m)\u001b[0m\u001b[0;34m\u001b[0m\u001b[0;34m\u001b[0m\u001b[0m\n\u001b[1;32m     16\u001b[0m \u001b[0;31m# local scope\u001b[0m\u001b[0;34m\u001b[0m\u001b[0;34m\u001b[0m\u001b[0;34m\u001b[0m\u001b[0m\n\u001b[0;32m---> 17\u001b[0;31m \u001b[0mprint\u001b[0m\u001b[0;34m(\u001b[0m\u001b[0mpotion_strength\u001b[0m\u001b[0;34m)\u001b[0m\u001b[0;34m\u001b[0m\u001b[0;34m\u001b[0m\u001b[0m\n\u001b[0m\u001b[1;32m     18\u001b[0m \u001b[0;31m#  ^^ generates error potion_strength not defined outside function\u001b[0m\u001b[0;34m\u001b[0m\u001b[0;34m\u001b[0m\u001b[0;34m\u001b[0m\u001b[0m\n\u001b[1;32m     19\u001b[0m \u001b[0;34m\u001b[0m\u001b[0m\n",
      "\u001b[0;31mNameError\u001b[0m: name 'potion_strength' is not defined"
     ]
    }
   ],
   "source": [
    "# global scope \n",
    "player_health = 10\n",
    "#  global variable\n",
    "\n",
    "\n",
    "print(player_health)\n",
    "\n",
    "\n",
    "def drink_potion():\n",
    "#     local scope to this function \n",
    "    potion_strength = 2\n",
    "    print(potion_strength)\n",
    "    print(player_health)\n",
    "    \n",
    "drink_potion()\n",
    "# local scope\n",
    "print(potion_strength)  \n",
    "#  ^^ generates error potion_strength not defined outside function\n",
    "\n",
    "\n"
   ]
  },
  {
   "cell_type": "code",
   "execution_count": 32,
   "id": "90673e8e",
   "metadata": {},
   "outputs": [
    {
     "name": "stdout",
     "output_type": "stream",
     "text": [
      "3 Skeleton\n"
     ]
    }
   ],
   "source": [
    "game_level = 3\n",
    "\n",
    "def create_enemy():\n",
    "    enemies = [\"Skeleton\", \"Zoombie\", \"Alien\"]\n",
    "    if game_level < 5:\n",
    "        new_enemy = enemies[0]\n",
    "\n",
    "print(game_level,new_enemy)\n",
    "    "
   ]
  },
  {
   "cell_type": "code",
   "execution_count": 38,
   "id": "12d5939e",
   "metadata": {},
   "outputs": [
    {
     "name": "stdout",
     "output_type": "stream",
     "text": [
      "enemies inside function: 1\n",
      "enemies outside function: 1\n"
     ]
    }
   ],
   "source": [
    "# local vs global scope\n",
    "# terrible idea to name local and global variables same name \n",
    "\n",
    "\n",
    "enemies = 1\n",
    "\n",
    "def increase_enemies():\n",
    "#     creating new varible with local scope \n",
    "#     global enemies \n",
    "# avoid modifying global scope inside function  \n",
    "    \n",
    "    print(f\"enemies inside function: {enemies}\")\n",
    "    return enemies + 1\n",
    "    \n",
    "\n",
    "    \n",
    "increase_enemies()\n",
    "print(f\"enemies outside function: {enemies}\")\n",
    "    \n",
    "     "
   ]
  },
  {
   "cell_type": "code",
   "execution_count": 56,
   "id": "b71c9fff",
   "metadata": {},
   "outputs": [
    {
     "name": "stdout",
     "output_type": "stream",
     "text": [
      "Welcome to the Number Guessing Game!\n",
      "I'm thinking of a number between 1 and 100.\n",
      "Choose a difficulty. Type 'easy' or 'hard': easy\n",
      "You have 10 attempts remaining to guess the number.\n",
      "Make a guess: 60\n",
      "Too high\n",
      "Guess again.\n",
      "You have 9 attempts remaining to guess the number.\n",
      "Make a guess: 40\n",
      "Too low\n",
      "Guess again.\n",
      "You have 8 attempts remaining to guess the number.\n",
      "Make a guess: 55\n",
      "Too low\n",
      "Guess again.\n",
      "You have 7 attempts remaining to guess the number.\n",
      "Make a guess: 56\n",
      "Too low\n",
      "Guess again.\n",
      "You have 6 attempts remaining to guess the number.\n",
      "Make a guess: 58\n",
      "You got it! The answer was 58.\n"
     ]
    }
   ],
   "source": [
    "# number guessing game\n",
    "\n",
    "# choosing random number between 1 & 100 \n",
    "import random \n",
    "num = random.randint(1,100)\n",
    "\n",
    "print(\"Welcome to the Number Guessing Game!\")\n",
    "print(\"I'm thinking of a number between 1 and 100.\")\n",
    "\n",
    "# make the function to set difficulty \n",
    "level = input(\"Choose a difficulty. Type 'easy' or 'hard': \")\n",
    "if level == \"easy\":\n",
    "    attempts = 10\n",
    "elif level == \"hard\":\n",
    "    attempts = 5\n",
    "\n",
    "\n",
    "# def check_in_range(guess):\n",
    "#     if guess =< 100 and guess > 0:\n",
    "#         return True\n",
    "#     else: \n",
    "#         print(\"Guess not in range, guess a number between 1 and 100.\")\n",
    "\n",
    "\n",
    "while attempts > 0: \n",
    "    print(f\"You have {attempts} attempts remaining to guess the number.\")\n",
    "    guess = int(input(\"Make a guess: \"))\n",
    "    if guess == num:\n",
    "        print(f\"You got it! The answer was {num}.\")\n",
    "        break\n",
    "    else: \n",
    "        attempts -= 1\n",
    "        if guess > num:\n",
    "            print(\"Too high\")\n",
    "        else: \n",
    "            print(\"Too low\")\n",
    "            \n",
    "        if attempts >0:\n",
    "            print(f\"Guess again.\")\n",
    "        else: \n",
    "            print(f\"You've run out of guesses, you lose.\")\n",
    "\n",
    "        \n",
    "        "
   ]
  },
  {
   "cell_type": "code",
   "execution_count": null,
   "id": "26372148",
   "metadata": {},
   "outputs": [],
   "source": [
    "# break this down into functions\n",
    "\n",
    "\n",
    "# number guessing game\n",
    "\n",
    "# choosing random number between 1 & 100 \n",
    "import random \n",
    "num = random.randint(1,100)\n",
    "\n",
    "print(\"Welcome to the Number Guessing Game!\")\n",
    "print(\"I'm thinking of a number between 1 and 100.\")\n",
    "\n",
    "# make the function to set difficulty \n",
    "def get_difficulty():\n",
    "    level = input(\"Choose a difficulty. Type 'easy' or 'hard': \")\n",
    "    attempts = []\n",
    "    if level == \"easy\":\n",
    "        attempts = 10\n",
    "    elif level == \"hard\":\n",
    "        attempts = 5\n",
    "\n",
    "\n",
    "# def check_in_range(guess):\n",
    "#     if guess =< 100 and guess > 0:\n",
    "#         return True\n",
    "#     else: \n",
    "#         print(\"Guess not in range, guess a number between 1 and 100.\")\n",
    "\n",
    "\n",
    "while attempts > 0: \n",
    "    print(f\"You have {attempts} attempts remaining to guess the number.\")\n",
    "    guess = int(input(\"Make a guess: \"))\n",
    "    if guess == num:\n",
    "        print(f\"You got it! The answer was {num}.\")\n",
    "        break\n",
    "    else: \n",
    "        attempts -= 1\n",
    "        if guess > num:\n",
    "            print(\"Too high\")\n",
    "        else: \n",
    "            print(\"Too low\")\n",
    "            \n",
    "        if attempts >0:\n",
    "            print(f\"Guess again.\")\n",
    "        else: \n",
    "            print(f\"You've run out of guesses, you lose.\")\n",
    "\n",
    "        "
   ]
  },
  {
   "cell_type": "code",
   "execution_count": null,
   "id": "7cd094eb",
   "metadata": {},
   "outputs": [],
   "source": []
  }
 ],
 "metadata": {
  "kernelspec": {
   "display_name": "Python 3",
   "language": "python",
   "name": "python3"
  },
  "language_info": {
   "codemirror_mode": {
    "name": "ipython",
    "version": 3
   },
   "file_extension": ".py",
   "mimetype": "text/x-python",
   "name": "python",
   "nbconvert_exporter": "python",
   "pygments_lexer": "ipython3",
   "version": "3.8.8"
  }
 },
 "nbformat": 4,
 "nbformat_minor": 5
}
