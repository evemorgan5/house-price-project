{
 "cells": [
  {
   "cell_type": "code",
   "execution_count": 9,
   "id": "992db455",
   "metadata": {},
   "outputs": [
    {
     "name": "stdout",
     "output_type": "stream",
     "text": [
      "Welcome to the rollercoaster!\n",
      "What is your height in cm? 120\n",
      "Great, you have just made it! You can ride the rollercoaster!\n"
     ]
    }
   ],
   "source": [
    "print(\"Welcome to the rollercoaster!\")\n",
    "\n",
    "min_height = 120\n",
    "height = int(input(\"What is your height in cm? \"))\n",
    "\n",
    "if height > min_height:\n",
    "#     doesn't include 120cm must be greater than\n",
    "# include \"=\" to include 120cm, >= greater than or equal to\n",
    "    print(\"You can ride the rollercoaster!\")\n",
    "elif height == min_height:\n",
    "    print(\"Great, you have just made it! You can ride the rollercoaster!\")\n",
    "else:\n",
    "    print(\"Sorry, you cannot ride the rollercoaster!\")"
   ]
  },
  {
   "cell_type": "code",
   "execution_count": 20,
   "id": "23308f9c",
   "metadata": {},
   "outputs": [
    {
     "name": "stdout",
     "output_type": "stream",
     "text": [
      "1 is an odd number.\n",
      "2 is an even number.\n",
      "3 is an odd number.\n",
      "4 is an even number.\n",
      "5 is an odd number.\n",
      "6 is an even number.\n",
      "7 is an odd number.\n",
      "8 is an even number.\n",
      "9 is an odd number.\n",
      "10 is an even number.\n",
      "520 is an even number.\n",
      "Which number do you want to check? 67\n",
      "67 is an odd number.\n"
     ]
    }
   ],
   "source": [
    "# odd or even\n",
    "def odd_or_even(num):\n",
    "    if num % 2 == 0:\n",
    "        print(num, \"is an even number.\")\n",
    "    else:\n",
    "        print(num, \"is an odd number.\")\n",
    "        \n",
    "# % modulo, finds the remainder \n",
    "\n",
    "nums = [1,2,3,4,5,6,7,8,9,10]\n",
    "for i in nums:\n",
    "    odd_or_even(i)\n",
    "    \n",
    "odd_or_even(520)\n",
    "\n",
    "number = int(input(\"Which number do you want to check? \"))\n",
    "odd_or_even(number)"
   ]
  },
  {
   "cell_type": "code",
   "execution_count": 28,
   "id": "ff4c99ef",
   "metadata": {},
   "outputs": [
    {
     "name": "stdout",
     "output_type": "stream",
     "text": [
      "Welcome to the rollercoaster!\n",
      "What is your height in cm? 121\n",
      "You can ride the rollercoaster!\n",
      "What age are you? 19\n",
      "Over 18, $12 please.\n"
     ]
    }
   ],
   "source": [
    "print(\"Welcome to the rollercoaster!\")\n",
    "\n",
    "min_height = 120\n",
    "height = int(input(\"What is your height in cm? \"))\n",
    "\n",
    "if height >= min_height:\n",
    "    print(\"You can ride the rollercoaster!\")\n",
    "    age = int(input(\"What age are you? \"))\n",
    "    if age > 18:\n",
    "        print(\"Over 18, $12 please.\")\n",
    "    elif age >= 12:\n",
    "        print(\"Over 12, $7 please.\")\n",
    "    else:\n",
    "        print(\"Under 12, $5 please.\")\n",
    "else:\n",
    "    print(\"Sorry, you can't ride the rollercoaster!\")"
   ]
  },
  {
   "cell_type": "code",
   "execution_count": 37,
   "id": "e537aa74",
   "metadata": {},
   "outputs": [
    {
     "name": "stdout",
     "output_type": "stream",
     "text": [
      "Enter your weight in kilograms: 80\n",
      "Enter your height in meters: 1.70\n",
      "Your bmi is 28, you are overweight.\n"
     ]
    }
   ],
   "source": [
    "# bmi calc 2.0\n",
    "\n",
    "\n",
    "weight = float(input(\"Enter your weight in kilograms: \"))\n",
    "height = float(input(\"Enter your height in meters: \"))\n",
    "bmi = round(weight / height ** 2)\n",
    "\n",
    "\n",
    "if bmi < 18.5:\n",
    "    print(\"Your bmi is \" + str(bmi) + \", you are underweight.\")\n",
    "elif bmi < 25:\n",
    "    print(\"Your bmi is \" + str(bmi) + \", you are a normal weight.\")\n",
    "elif bmi < 30:\n",
    "    print(\"Your bmi is \" + str(bmi) + \", you are overweight.\")\n",
    "elif bmi < 35:\n",
    "    print(\"Your bmi is \" + str(bmi) + \", you are obese.\")\n",
    "else:\n",
    "    print(\"Your bmi is \" + str(bmi) + \", you are clinically obese.\")\n",
    " \n",
    "\n",
    "# check for set values of bmi, ie. bmi =2 2          \n",
    "# print(f\"Your bmi is {bmi}, you are clinically obese.\")\n",
    "  \n",
    "    "
   ]
  },
  {
   "cell_type": "code",
   "execution_count": 46,
   "id": "745a7290",
   "metadata": {},
   "outputs": [
    {
     "name": "stdout",
     "output_type": "stream",
     "text": [
      "2100 is not a leap year.\n"
     ]
    }
   ],
   "source": [
    "# check if it is a leap year \n",
    "year = 2100\n",
    "if year % 4 == 0 and year % 100 == 0 and year % 400 == 0:\n",
    "    print(f\"{year} is a leap year.\")\n",
    "elif year % 4 == 0 and year % 100 == 0:\n",
    "    print(f\"{year} is not a leap year.\")   \n",
    "elif year % 4 == 0:\n",
    "    print(f\"{year} is a leap year.\")  \n",
    "else:\n",
    "    print(f\"{year} is not a leap year.\") \n",
    "    \n"
   ]
  },
  {
   "cell_type": "code",
   "execution_count": 51,
   "id": "6af9d220",
   "metadata": {},
   "outputs": [
    {
     "data": {
      "text/plain": [
       "100"
      ]
     },
     "execution_count": 51,
     "metadata": {},
     "output_type": "execute_result"
    }
   ],
   "source": [
    "2100 % 400 "
   ]
  },
  {
   "cell_type": "code",
   "execution_count": 54,
   "id": "d6d4c605",
   "metadata": {},
   "outputs": [
    {
     "name": "stdout",
     "output_type": "stream",
     "text": [
      "2100 is not a leap year.\n"
     ]
    }
   ],
   "source": [
    "# check if it is a leap year \n",
    "year = 2100\n",
    "if year % 4 == 0:\n",
    "    if year % 100 == 0:\n",
    "        if year % 400 == 0:\n",
    "            print(f\"{year} is a leap year.\")  \n",
    "        else:\n",
    "            print(f\"{year} is not a leap year.\")\n",
    "    else:\n",
    "        print(f\"{year} is a leap year.\")  \n",
    "else:\n",
    "    print(f\"{year} is not a leap year.\") \n",
    "    \n",
    "    \n",
    "    \n"
   ]
  },
  {
   "cell_type": "code",
   "execution_count": 58,
   "id": "8b88e3b8",
   "metadata": {},
   "outputs": [
    {
     "name": "stdout",
     "output_type": "stream",
     "text": [
      "Welcome to the rollercoaster!\n",
      "What is your height in cm? 121\n",
      "You can ride the rollercoaster!\n",
      "What age are you? 18\n",
      "Would you like a photo? Y or N Y\n",
      "Over 12, $10 please.\n"
     ]
    }
   ],
   "source": [
    "print(\"Welcome to the rollercoaster!\")\n",
    "\n",
    "min_height = 120\n",
    "height = int(input(\"What is your height in cm? \"))\n",
    "\n",
    "if height >= min_height:\n",
    "    print(\"You can ride the rollercoaster!\")\n",
    "    age = int(input(\"What age are you? \"))\n",
    "    photo = input(\"Would you like a photo? Y or N \")\n",
    "    if photo == \"Y\":\n",
    "        if age > 18:\n",
    "            print(\"Over 18, $15 please.\")\n",
    "        elif age >= 12:\n",
    "            print(\"Over 12, $10 please.\")\n",
    "        else:\n",
    "            print(\"Under 12, $8 please.\")\n",
    "    else:\n",
    "        if age > 18:\n",
    "            print(\"Over 18, $12 please.\")\n",
    "        elif age >= 12:\n",
    "            print(\"Over 12, $7 please.\")\n",
    "        else:\n",
    "            print(\"Under 12, $5 please.\")\n",
    "        \n",
    "else:\n",
    "    print(\"Sorry, you can't ride the rollercoaster!\")"
   ]
  },
  {
   "cell_type": "code",
   "execution_count": 61,
   "id": "f621d691",
   "metadata": {},
   "outputs": [
    {
     "name": "stdout",
     "output_type": "stream",
     "text": [
      "Welcome to the rollercoaster!\n",
      "What is your height in cm? 125\n",
      "You can ride the rollercoaster!\n",
      "What age are you? 20\n",
      "Would you like a photo? Y or N N\n",
      "Your final bill is 12\n"
     ]
    }
   ],
   "source": [
    "print(\"Welcome to the rollercoaster!\")\n",
    "\n",
    "min_height = 120\n",
    "height = int(input(\"What is your height in cm? \"))\n",
    "bill = 0\n",
    "\n",
    "if height >= min_height:\n",
    "    print(\"You can ride the rollercoaster!\")\n",
    "    age = int(input(\"What age are you? \"))\n",
    "    if age > 18:\n",
    "        bill = 12\n",
    "    elif age >= 12:\n",
    "        bill = 7\n",
    "    else:\n",
    "        bill = 5\n",
    "    \n",
    "    photo = input(\"Would you like a photo? Y or N \")\n",
    "    if photo == \"Y\":\n",
    "        bill = bill + 3\n",
    "        \n",
    "#  shortcut bill += 3, same as above \n",
    "    print(f\"Your final bill is {bill}\")\n",
    "\n",
    "else:\n",
    "    print(\"Sorry, you can't ride the rollercoaster!\")"
   ]
  },
  {
   "cell_type": "code",
   "execution_count": 69,
   "id": "0c986b47",
   "metadata": {},
   "outputs": [
    {
     "name": "stdout",
     "output_type": "stream",
     "text": [
      "Welcome to Python Pizza Deliveries!\n",
      "What size pizza do you want? S, M, or L => M\n",
      "Do you want to add pepperoni? Y or N => YY\n",
      "Do you want to add extra cheese? Y or N => Y\n",
      "Your final bill is: $21.\n"
     ]
    }
   ],
   "source": [
    "#  Pizza order program\n",
    "print(\"Welcome to Python Pizza Deliveries!\")\n",
    "size = input(\"What size pizza do you want? S, M, or L => \")\n",
    "add_pepperoni = input(\"Do you want to add pepperoni? Y or N => \")\n",
    "extra_cheese = input(\"Do you want to add extra cheese? Y or N => \")\n",
    "\n",
    "bill = 0 \n",
    "if size == \"S\":\n",
    "    bill += 15\n",
    "elif size == \"M\":\n",
    "    bill += 20\n",
    "else: \n",
    "    bill += 25\n",
    "\n",
    "if add_pepperoni == \"Y\":\n",
    "    if size == \"S\":\n",
    "        bill += 2\n",
    "    else:\n",
    "        bill += 3\n",
    "\n",
    "\n",
    "if extra_cheese == \"Y\":\n",
    "    bill += 1\n",
    "    \n",
    "print(f\"Your final bill is: ${bill}.\")\n"
   ]
  },
  {
   "cell_type": "code",
   "execution_count": 70,
   "id": "1c41d3fb",
   "metadata": {},
   "outputs": [
    {
     "data": {
      "text/plain": [
       "False"
      ]
     },
     "execution_count": 70,
     "metadata": {},
     "output_type": "execute_result"
    }
   ],
   "source": [
    "a = 12\n",
    "a > 15\n"
   ]
  },
  {
   "cell_type": "code",
   "execution_count": 73,
   "id": "1a3246b3",
   "metadata": {},
   "outputs": [
    {
     "data": {
      "text/plain": [
       "True"
      ]
     },
     "execution_count": 73,
     "metadata": {},
     "output_type": "execute_result"
    }
   ],
   "source": [
    "a > 10 and a < 13\n",
    "\n",
    "# both True entire line is True"
   ]
  },
  {
   "cell_type": "code",
   "execution_count": 76,
   "id": "67b30505",
   "metadata": {},
   "outputs": [
    {
     "data": {
      "text/plain": [
       "False"
      ]
     },
     "execution_count": 76,
     "metadata": {},
     "output_type": "execute_result"
    }
   ],
   "source": [
    "a > 14 and a < 13\n",
    "# one False and one True all False"
   ]
  },
  {
   "cell_type": "code",
   "execution_count": 80,
   "id": "d5c5e2a6",
   "metadata": {},
   "outputs": [
    {
     "name": "stdout",
     "output_type": "stream",
     "text": [
      "Welcome to the rollercoaster!\n",
      "What is your height in cm? 130\n",
      "You can ride the rollercoaster!\n",
      "What age are you? 49\n",
      "Everything is going to be okay. Have a free ride on us!\n",
      "Would you like a photo? Y or N Y\n",
      "Your final bill is 3\n"
     ]
    }
   ],
   "source": [
    "print(\"Welcome to the rollercoaster!\")\n",
    "\n",
    "min_height = 120\n",
    "height = int(input(\"What is your height in cm? \"))\n",
    "bill = 0\n",
    "\n",
    "if height >= min_height:\n",
    "    print(\"You can ride the rollercoaster!\")\n",
    "    age = int(input(\"What age are you? \"))\n",
    "    if age >= 45 and age <= 55:\n",
    "        bill = 0\n",
    "        print(\"Everything is going to be okay. Have a free ride on us!\")\n",
    "    elif age > 18:\n",
    "        bill = 12\n",
    "    elif age >= 12:\n",
    "        bill = 7\n",
    "    else:\n",
    "        bill = 5\n",
    "    \n",
    "    photo = input(\"Would you like a photo? Y or N \")\n",
    "    if photo == \"Y\":\n",
    "        bill = bill + 3\n",
    "        \n",
    "#  shortcut bill += 3, same as above \n",
    "    print(f\"Your final bill is {bill}\")\n",
    "\n",
    "else:\n",
    "    print(\"Sorry, you can't ride the rollercoaster!\")"
   ]
  },
  {
   "cell_type": "code",
   "execution_count": 94,
   "id": "390343cf",
   "metadata": {},
   "outputs": [
    {
     "name": "stdout",
     "output_type": "stream",
     "text": [
      "Welcome to the Love Calculator!\n",
      "What is your name? \n",
      "eve\n",
      "What is the name of your lover? \n",
      "harry\n",
      "5\n"
     ]
    },
    {
     "ename": "IndexError",
     "evalue": "list index out of range",
     "output_type": "error",
     "traceback": [
      "\u001b[0;31m---------------------------------------------------------------------------\u001b[0m",
      "\u001b[0;31mIndexError\u001b[0m                                Traceback (most recent call last)",
      "\u001b[0;32m<ipython-input-94-15ef1572c6bf>\u001b[0m in \u001b[0;36m<module>\u001b[0;34m\u001b[0m\n\u001b[1;32m     16\u001b[0m \u001b[0;34m\u001b[0m\u001b[0m\n\u001b[1;32m     17\u001b[0m \u001b[0mnames\u001b[0m\u001b[0;34m[\u001b[0m\u001b[0;36m0\u001b[0m\u001b[0;34m]\u001b[0m\u001b[0;34m\u001b[0m\u001b[0;34m\u001b[0m\u001b[0m\n\u001b[0;32m---> 18\u001b[0;31m \u001b[0mnames\u001b[0m\u001b[0;34m[\u001b[0m\u001b[0;36m1\u001b[0m\u001b[0;34m]\u001b[0m\u001b[0;34m\u001b[0m\u001b[0;34m\u001b[0m\u001b[0m\n\u001b[0m",
      "\u001b[0;31mIndexError\u001b[0m: list index out of range"
     ]
    }
   ],
   "source": [
    "#  Love calculator challenge\n",
    "\n",
    "print(\"Welcome to the Love Calculator!\")\n",
    "name1 = input(\"What is your name? \\n\")\n",
    "name2 = input(\"What is the name of your lover? \\n\")\n",
    "names_string = name1 + name2\n",
    "lower_case_string = names_string.lower()\n",
    "\n",
    "love_score = 0 \n",
    "love_score += name.count(\"t\")\n",
    "love_score += name.count(\"r\")\n",
    "love_score += name.count(\"u\")\n",
    "love_score += name.count(\"e\")\n",
    "\n",
    "love_score += name.count(\"l\")\n",
    "love_score += name.count(\"o\")\n",
    "love_score += name.count(\"v\")\n",
    "love_score += name.count(\"e\")\n",
    "love_score += name.count(\"r\")\n",
    "print(love_score)\n"
   ]
  },
  {
   "cell_type": "code",
   "execution_count": 98,
   "id": "9e670bfc",
   "metadata": {},
   "outputs": [
    {
     "name": "stdout",
     "output_type": "stream",
     "text": [
      "Welcome to the Love Calculator!\n",
      "What is your name? \n",
      "eve\n",
      "What is the name of your lover? \n",
      "harry\n",
      "4\n",
      "3\n",
      "43\n",
      "Your score is 43, you are alright together.\n"
     ]
    }
   ],
   "source": [
    "#  Love calculator challenge\n",
    "\n",
    "print(\"Welcome to the Love Calculator!\")\n",
    "name1 = input(\"What is your name? \\n\")\n",
    "name2 = input(\"What is the name of your lover? \\n\")\n",
    "names_string = name1 + name2\n",
    "lower_case_string = names_string.lower()\n",
    "\n",
    "t = name.count(\"t\")\n",
    "r = name.count(\"r\")\n",
    "u = name.count(\"u\")\n",
    "e = name.count(\"e\")\n",
    "\n",
    "true = t + r + u + e\n",
    "print(true)\n",
    "\n",
    "l = name.count(\"l\")\n",
    "o = name.count(\"o\")\n",
    "v = name.count(\"v\")\n",
    "e = name.count(\"e\")\n",
    "\n",
    "love = l + o + v + e\n",
    "print(love)\n",
    "\n",
    "love_score = int(str(true) + str(love))\n",
    "\n",
    "print(love_score)\n",
    "\n",
    "if (love_score < 10) or (love_score > 90):\n",
    "    print(f\"Your score is {love_score}, you go together like coke and mentos!\")\n",
    "elif (love_score >= 40) and (love_score <= 50):\n",
    "    print(f\"Your score is {love_score}, you are alright together.\")\n",
    "else:\n",
    "    print(f\"Your score is {love_score}.\")\n",
    "    "
   ]
  },
  {
   "cell_type": "code",
   "execution_count": 117,
   "id": "a6d0ff55",
   "metadata": {},
   "outputs": [
    {
     "name": "stdout",
     "output_type": "stream",
     "text": [
      "\n",
      "*******************************************************************************\n",
      "          |                   |                  |                     |\n",
      " _________|________________.=\"\"_;=.______________|_____________________|_______\n",
      "|                   |  ,-\"_,=\"\"     `\"=.|                  |\n",
      "|___________________|__\"=._o`\"-._        `\"=.______________|___________________\n",
      "          |                `\"=._o`\"=._      _`\"=._                     |\n",
      " _________|_____________________:=._o \"=._.\"_.-=\"'\"=.__________________|_______\n",
      "|                   |    __.--\" , ; `\"=._o.\" ,-\"\"\"-._ \".   |\n",
      "|___________________|_._\"  ,. .` ` `` ,  `\"-._\"-._   \". '__|___________________\n",
      "          |           |o`\"=._` , \"` `; .\". ,  \"-._\"-._; ;              |\n",
      " _________|___________| ;`-.o`\"=._; .\" ` '`.\"\\` . \"-._ /_______________|_______\n",
      "|                   | |o;    `\"-.o`\"=._``  '` \" ,__.--o;   |\n",
      "|___________________|_| ;     (#) `-.o `\"=.`_.--\"_o.-; ;___|___________________\n",
      "____/______/______/___|o;._    \"      `\".o|o_.--\"    ;o;____/______/______/____\n",
      "/______/______/______/_\"=._o--._        ; | ;        ; ;/______/______/______/_\n",
      "____/______/______/______/__\"=._o--._   ;o|o;     _._;o;____/______/______/____\n",
      "/______/______/______/______/____\"=._o._; | ;_.--\"o.--\"_/______/______/______/_\n",
      "____/______/______/______/______/_____\"=.o|o_.--\"\"___/______/______/______/____\n",
      "/______/______/______/______/______/______/______/______/______/______/_____ /\n",
      "*******************************************************************************\n",
      "\n",
      "Welcome to Treasure Island!\n",
      "You're mission is to find the treasure.\n",
      "You're at a cross road. Where do you want to go? Type 'left' or 'right'.\n",
      "right\n",
      "Game over.\n"
     ]
    }
   ],
   "source": [
    "# Treasure Island project\n",
    "print('''\n",
    "*******************************************************************************\n",
    "          |                   |                  |                     |\n",
    " _________|________________.=\"\"_;=.______________|_____________________|_______\n",
    "|                   |  ,-\"_,=\"\"     `\"=.|                  |\n",
    "|___________________|__\"=._o`\"-._        `\"=.______________|___________________\n",
    "          |                `\"=._o`\"=._      _`\"=._                     |\n",
    " _________|_____________________:=._o \"=._.\"_.-=\"'\"=.__________________|_______\n",
    "|                   |    __.--\" , ; `\"=._o.\" ,-\"\"\"-._ \".   |\n",
    "|___________________|_._\"  ,. .` ` `` ,  `\"-._\"-._   \". '__|___________________\n",
    "          |           |o`\"=._` , \"` `; .\". ,  \"-._\"-._; ;              |\n",
    " _________|___________| ;`-.o`\"=._; .\" ` '`.\"\\` . \"-._ /_______________|_______\n",
    "|                   | |o;    `\"-.o`\"=._``  '` \" ,__.--o;   |\n",
    "|___________________|_| ;     (#) `-.o `\"=.`_.--\"_o.-; ;___|___________________\n",
    "____/______/______/___|o;._    \"      `\".o|o_.--\"    ;o;____/______/______/____\n",
    "/______/______/______/_\"=._o--._        ; | ;        ; ;/______/______/______/_\n",
    "____/______/______/______/__\"=._o--._   ;o|o;     _._;o;____/______/______/____\n",
    "/______/______/______/______/____\"=._o._; | ;_.--\"o.--\"_/______/______/______/_\n",
    "____/______/______/______/______/_____\"=.o|o_.--\"\"___/______/______/______/____\n",
    "/______/______/______/______/______/______/______/______/______/______/_____ /\n",
    "*******************************************************************************\n",
    "''')\n",
    "print(\"Welcome to Treasure Island!\\nYou're mission is to find the treasure.\")\n",
    "\n",
    "direction1 = input(\"You're at a cross road. Where do you want to go? Type 'left' or 'right'.\\n\")\n",
    "\n",
    "if direction1 == \"right\":\n",
    "    print(\"Game over.\")\n",
    "else:\n",
    "    direction2 = input(\"You come to a lake. There is an island in the middle of the lake. \"\n",
    "                   \"Type 'wait' to wait for a boat. Type 'swim' to swim across.\\n\")\n",
    "    if direction2 == \"wait\":\n",
    "        print(\"Game over.\")\n",
    "    else:\n",
    "        direction3 = input(\"You arrive at the island unharmed. There is a house with 3 doors. One red, one yellow and one blue.\"\n",
    "                   \" Which color do you choose?\\n\")\n",
    "        if direction3 == \"blue\":\n",
    "            print(\"Congratulations, you win!\")\n",
    "        else: \n",
    "            print(\"Game over.\")\n",
    "\n"
   ]
  },
  {
   "cell_type": "code",
   "execution_count": null,
   "id": "14809e21",
   "metadata": {},
   "outputs": [],
   "source": []
  }
 ],
 "metadata": {
  "kernelspec": {
   "display_name": "Python 3",
   "language": "python",
   "name": "python3"
  },
  "language_info": {
   "codemirror_mode": {
    "name": "ipython",
    "version": 3
   },
   "file_extension": ".py",
   "mimetype": "text/x-python",
   "name": "python",
   "nbconvert_exporter": "python",
   "pygments_lexer": "ipython3",
   "version": "3.8.8"
  }
 },
 "nbformat": 4,
 "nbformat_minor": 5
}
